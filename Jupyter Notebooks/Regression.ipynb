{
 "cells": [
  {
   "cell_type": "code",
   "execution_count": 1,
   "metadata": {},
   "outputs": [],
   "source": [
    "from mgwr.gwr import GWR, MGWR\n",
    "import pandas as pd\n",
    "import libpysal as ps\n",
    "import statsmodels.api as sm\n",
    "import numpy as np\n",
    "from mgwr.sel_bw import Sel_BW\n",
    "from mgwr.utils import compare_surfaces, truncate_colormap\n",
    "from mgwr.diagnostics import corr\n",
    "from itertools import combinations as combo\n",
    "import geopandas as gp\n",
    "import matplotlib.pyplot as plt\n",
    "import matplotlib as mpl\n",
    "from geopy.distance import geodesic\n",
    "import geopandas as gpd\n",
    "from shapely.geometry import Point, Polygon\n",
    "from geopandas import GeoDataFrame\n",
    "import seaborn as sns\n",
    "from sklearn import linear_model\n",
    "from sklearn.model_selection import train_test_split\n",
    "from sklearn.metrics import mean_squared_error, r2_score\n",
    "from sklearn.preprocessing import MinMaxScaler\n",
    "\n",
    "%matplotlib inline\n",
    "plt.style.use('ggplot')"
   ]
  },
  {
   "cell_type": "markdown",
   "metadata": {},
   "source": [
    "# Load Dataframe:"
   ]
  },
  {
   "cell_type": "code",
   "execution_count": 2,
   "metadata": {},
   "outputs": [],
   "source": [
    "data = pd.read_csv('Data/data_for_gwr.csv')"
   ]
  },
  {
   "cell_type": "code",
   "execution_count": 3,
   "metadata": {},
   "outputs": [
    {
     "data": {
      "text/html": [
       "<div>\n",
       "<style scoped>\n",
       "    .dataframe tbody tr th:only-of-type {\n",
       "        vertical-align: middle;\n",
       "    }\n",
       "\n",
       "    .dataframe tbody tr th {\n",
       "        vertical-align: top;\n",
       "    }\n",
       "\n",
       "    .dataframe thead th {\n",
       "        text-align: right;\n",
       "    }\n",
       "</style>\n",
       "<table border=\"1\" class=\"dataframe\">\n",
       "  <thead>\n",
       "    <tr style=\"text-align: right;\">\n",
       "      <th></th>\n",
       "      <th>county</th>\n",
       "      <th>yr_month_x</th>\n",
       "      <th>real_price</th>\n",
       "      <th>year</th>\n",
       "      <th>month</th>\n",
       "      <th>population</th>\n",
       "      <th>cases_per_100k</th>\n",
       "      <th>3yr_av_price</th>\n",
       "      <th>av_prop_flats</th>\n",
       "      <th>lockdown</th>\n",
       "      <th>stamp_duty</th>\n",
       "      <th>priv_os_av_size</th>\n",
       "      <th>ann_price_change</th>\n",
       "      <th>long</th>\n",
       "      <th>lat</th>\n",
       "    </tr>\n",
       "  </thead>\n",
       "  <tbody>\n",
       "    <tr>\n",
       "      <th>0</th>\n",
       "      <td>Bath And North East Somerset</td>\n",
       "      <td>2020-01-01</td>\n",
       "      <td>408087.080371</td>\n",
       "      <td>2020</td>\n",
       "      <td>1</td>\n",
       "      <td>193282</td>\n",
       "      <td>0.000000</td>\n",
       "      <td>419871.188521</td>\n",
       "      <td>0.224206</td>\n",
       "      <td>0</td>\n",
       "      <td>0</td>\n",
       "      <td>389.8</td>\n",
       "      <td>0.061941</td>\n",
       "      <td>-2.48654</td>\n",
       "      <td>51.356041</td>\n",
       "    </tr>\n",
       "    <tr>\n",
       "      <th>1</th>\n",
       "      <td>Bath And North East Somerset</td>\n",
       "      <td>2020-02-01</td>\n",
       "      <td>368081.624487</td>\n",
       "      <td>2020</td>\n",
       "      <td>2</td>\n",
       "      <td>193282</td>\n",
       "      <td>0.000000</td>\n",
       "      <td>419871.188521</td>\n",
       "      <td>0.224206</td>\n",
       "      <td>0</td>\n",
       "      <td>0</td>\n",
       "      <td>389.8</td>\n",
       "      <td>-0.135711</td>\n",
       "      <td>-2.48654</td>\n",
       "      <td>51.356041</td>\n",
       "    </tr>\n",
       "    <tr>\n",
       "      <th>2</th>\n",
       "      <td>Bath And North East Somerset</td>\n",
       "      <td>2020-03-01</td>\n",
       "      <td>392199.964022</td>\n",
       "      <td>2020</td>\n",
       "      <td>3</td>\n",
       "      <td>193282</td>\n",
       "      <td>27.421074</td>\n",
       "      <td>419871.188521</td>\n",
       "      <td>0.224206</td>\n",
       "      <td>0</td>\n",
       "      <td>0</td>\n",
       "      <td>389.8</td>\n",
       "      <td>-0.070570</td>\n",
       "      <td>-2.48654</td>\n",
       "      <td>51.356041</td>\n",
       "    </tr>\n",
       "  </tbody>\n",
       "</table>\n",
       "</div>"
      ],
      "text/plain": [
       "                         county  yr_month_x     real_price  year  month  \\\n",
       "0  Bath And North East Somerset  2020-01-01  408087.080371  2020      1   \n",
       "1  Bath And North East Somerset  2020-02-01  368081.624487  2020      2   \n",
       "2  Bath And North East Somerset  2020-03-01  392199.964022  2020      3   \n",
       "\n",
       "   population  cases_per_100k   3yr_av_price  av_prop_flats  lockdown  \\\n",
       "0      193282        0.000000  419871.188521       0.224206         0   \n",
       "1      193282        0.000000  419871.188521       0.224206         0   \n",
       "2      193282       27.421074  419871.188521       0.224206         0   \n",
       "\n",
       "   stamp_duty  priv_os_av_size  ann_price_change     long        lat  \n",
       "0           0            389.8          0.061941 -2.48654  51.356041  \n",
       "1           0            389.8         -0.135711 -2.48654  51.356041  \n",
       "2           0            389.8         -0.070570 -2.48654  51.356041  "
      ]
     },
     "execution_count": 3,
     "metadata": {},
     "output_type": "execute_result"
    }
   ],
   "source": [
    "data.head(3)"
   ]
  },
  {
   "cell_type": "code",
   "execution_count": 4,
   "metadata": {},
   "outputs": [
    {
     "data": {
      "text/plain": [
       "(1100, 15)"
      ]
     },
     "execution_count": 4,
     "metadata": {},
     "output_type": "execute_result"
    }
   ],
   "source": [
    "data.shape"
   ]
  },
  {
   "cell_type": "code",
   "execution_count": 5,
   "metadata": {},
   "outputs": [],
   "source": [
    "uk_shape = pd.read_csv('Data/uk_shape_county_cleaned.csv')"
   ]
  },
  {
   "cell_type": "markdown",
   "metadata": {},
   "source": [
    "# Creating Log Variables:"
   ]
  },
  {
   "cell_type": "code",
   "execution_count": 6,
   "metadata": {},
   "outputs": [],
   "source": [
    "data['log_price'] = np.log(data['3yr_av_price'])"
   ]
  },
  {
   "cell_type": "code",
   "execution_count": 7,
   "metadata": {},
   "outputs": [],
   "source": [
    "data['log_pop'] = np.log(data['population'])"
   ]
  },
  {
   "cell_type": "code",
   "execution_count": 8,
   "metadata": {},
   "outputs": [],
   "source": [
    "data['log_cases'] = np.log1p(data['cases_per_100k'])"
   ]
  },
  {
   "cell_type": "code",
   "execution_count": 9,
   "metadata": {},
   "outputs": [],
   "source": [
    "data['log_av_size'] = np.log(data['priv_os_av_size'])"
   ]
  },
  {
   "cell_type": "code",
   "execution_count": 10,
   "metadata": {},
   "outputs": [],
   "source": [
    "data['log_real_price'] = np.log(data['real_price'])"
   ]
  },
  {
   "cell_type": "code",
   "execution_count": 11,
   "metadata": {},
   "outputs": [
    {
     "data": {
      "image/png": "[encoded data removed]",
      "text/plain": [
       "<Figure size 432x288 with 1 Axes>"
      ]
     },
     "metadata": {},
     "output_type": "display_data"
    }
   ],
   "source": [
    "plt.hist(data['log_av_size'], bins =20, color = 'slategrey')\n",
    "\n",
    "plt.show()"
   ]
  },
  {
   "cell_type": "code",
   "execution_count": 12,
   "metadata": {},
   "outputs": [
    {
     "data": {
      "text/plain": [
       "1100"
      ]
     },
     "execution_count": 12,
     "metadata": {},
     "output_type": "execute_result"
    }
   ],
   "source": [
    "len(data)"
   ]
  },
  {
   "cell_type": "code",
   "execution_count": 13,
   "metadata": {},
   "outputs": [],
   "source": [
    "data_trial = data[~((data['county']=='Wiltshire') & (data['month']==3))].reset_index(drop=True)"
   ]
  },
  {
   "cell_type": "code",
   "execution_count": 14,
   "metadata": {},
   "outputs": [
    {
     "data": {
      "text/plain": [
       "1099"
      ]
     },
     "execution_count": 14,
     "metadata": {},
     "output_type": "execute_result"
    }
   ],
   "source": [
    "len(data_trial)"
   ]
  },
  {
   "cell_type": "code",
   "execution_count": 15,
   "metadata": {},
   "outputs": [
    {
     "data": {
      "text/html": [
       "<div>\n",
       "<style scoped>\n",
       "    .dataframe tbody tr th:only-of-type {\n",
       "        vertical-align: middle;\n",
       "    }\n",
       "\n",
       "    .dataframe tbody tr th {\n",
       "        vertical-align: top;\n",
       "    }\n",
       "\n",
       "    .dataframe thead th {\n",
       "        text-align: right;\n",
       "    }\n",
       "</style>\n",
       "<table border=\"1\" class=\"dataframe\">\n",
       "  <thead>\n",
       "    <tr style=\"text-align: right;\">\n",
       "      <th></th>\n",
       "      <th>county</th>\n",
       "      <th>yr_month_x</th>\n",
       "      <th>real_price</th>\n",
       "      <th>year</th>\n",
       "      <th>month</th>\n",
       "      <th>population</th>\n",
       "      <th>cases_per_100k</th>\n",
       "      <th>3yr_av_price</th>\n",
       "      <th>av_prop_flats</th>\n",
       "      <th>lockdown</th>\n",
       "      <th>stamp_duty</th>\n",
       "      <th>priv_os_av_size</th>\n",
       "      <th>ann_price_change</th>\n",
       "      <th>long</th>\n",
       "      <th>lat</th>\n",
       "      <th>log_price</th>\n",
       "      <th>log_pop</th>\n",
       "      <th>log_cases</th>\n",
       "      <th>log_av_size</th>\n",
       "      <th>log_real_price</th>\n",
       "    </tr>\n",
       "  </thead>\n",
       "  <tbody>\n",
       "    <tr>\n",
       "      <th>0</th>\n",
       "      <td>Bath And North East Somerset</td>\n",
       "      <td>2020-01-01</td>\n",
       "      <td>408087.080371</td>\n",
       "      <td>2020</td>\n",
       "      <td>1</td>\n",
       "      <td>193282</td>\n",
       "      <td>0.000000</td>\n",
       "      <td>419871.188521</td>\n",
       "      <td>0.224206</td>\n",
       "      <td>0</td>\n",
       "      <td>0</td>\n",
       "      <td>389.8</td>\n",
       "      <td>0.061941</td>\n",
       "      <td>-2.48654</td>\n",
       "      <td>51.356041</td>\n",
       "      <td>12.947703</td>\n",
       "      <td>12.171906</td>\n",
       "      <td>0.000000</td>\n",
       "      <td>5.965634</td>\n",
       "      <td>12.919236</td>\n",
       "    </tr>\n",
       "    <tr>\n",
       "      <th>1</th>\n",
       "      <td>Bath And North East Somerset</td>\n",
       "      <td>2020-02-01</td>\n",
       "      <td>368081.624487</td>\n",
       "      <td>2020</td>\n",
       "      <td>2</td>\n",
       "      <td>193282</td>\n",
       "      <td>0.000000</td>\n",
       "      <td>419871.188521</td>\n",
       "      <td>0.224206</td>\n",
       "      <td>0</td>\n",
       "      <td>0</td>\n",
       "      <td>389.8</td>\n",
       "      <td>-0.135711</td>\n",
       "      <td>-2.48654</td>\n",
       "      <td>51.356041</td>\n",
       "      <td>12.947703</td>\n",
       "      <td>12.171906</td>\n",
       "      <td>0.000000</td>\n",
       "      <td>5.965634</td>\n",
       "      <td>12.816060</td>\n",
       "    </tr>\n",
       "    <tr>\n",
       "      <th>2</th>\n",
       "      <td>Bath And North East Somerset</td>\n",
       "      <td>2020-03-01</td>\n",
       "      <td>392199.964022</td>\n",
       "      <td>2020</td>\n",
       "      <td>3</td>\n",
       "      <td>193282</td>\n",
       "      <td>27.421074</td>\n",
       "      <td>419871.188521</td>\n",
       "      <td>0.224206</td>\n",
       "      <td>0</td>\n",
       "      <td>0</td>\n",
       "      <td>389.8</td>\n",
       "      <td>-0.070570</td>\n",
       "      <td>-2.48654</td>\n",
       "      <td>51.356041</td>\n",
       "      <td>12.947703</td>\n",
       "      <td>12.171906</td>\n",
       "      <td>3.347131</td>\n",
       "      <td>5.965634</td>\n",
       "      <td>12.879527</td>\n",
       "    </tr>\n",
       "    <tr>\n",
       "      <th>3</th>\n",
       "      <td>Bath And North East Somerset</td>\n",
       "      <td>2020-04-01</td>\n",
       "      <td>469495.468044</td>\n",
       "      <td>2020</td>\n",
       "      <td>4</td>\n",
       "      <td>193282</td>\n",
       "      <td>103.993129</td>\n",
       "      <td>419871.188521</td>\n",
       "      <td>0.224206</td>\n",
       "      <td>1</td>\n",
       "      <td>0</td>\n",
       "      <td>389.8</td>\n",
       "      <td>0.122327</td>\n",
       "      <td>-2.48654</td>\n",
       "      <td>51.356041</td>\n",
       "      <td>12.947703</td>\n",
       "      <td>12.171906</td>\n",
       "      <td>4.653895</td>\n",
       "      <td>5.965634</td>\n",
       "      <td>13.059414</td>\n",
       "    </tr>\n",
       "    <tr>\n",
       "      <th>4</th>\n",
       "      <td>Bath And North East Somerset</td>\n",
       "      <td>2020-05-01</td>\n",
       "      <td>373742.045354</td>\n",
       "      <td>2020</td>\n",
       "      <td>5</td>\n",
       "      <td>193282</td>\n",
       "      <td>39.838164</td>\n",
       "      <td>419871.188521</td>\n",
       "      <td>0.224206</td>\n",
       "      <td>1</td>\n",
       "      <td>0</td>\n",
       "      <td>389.8</td>\n",
       "      <td>-0.046602</td>\n",
       "      <td>-2.48654</td>\n",
       "      <td>51.356041</td>\n",
       "      <td>12.947703</td>\n",
       "      <td>12.171906</td>\n",
       "      <td>3.709617</td>\n",
       "      <td>5.965634</td>\n",
       "      <td>12.831321</td>\n",
       "    </tr>\n",
       "  </tbody>\n",
       "</table>\n",
       "</div>"
      ],
      "text/plain": [
       "                         county  yr_month_x     real_price  year  month  \\\n",
       "0  Bath And North East Somerset  2020-01-01  408087.080371  2020      1   \n",
       "1  Bath And North East Somerset  2020-02-01  368081.624487  2020      2   \n",
       "2  Bath And North East Somerset  2020-03-01  392199.964022  2020      3   \n",
       "3  Bath And North East Somerset  2020-04-01  469495.468044  2020      4   \n",
       "4  Bath And North East Somerset  2020-05-01  373742.045354  2020      5   \n",
       "\n",
       "   population  cases_per_100k   3yr_av_price  av_prop_flats  lockdown  \\\n",
       "0      193282        0.000000  419871.188521       0.224206         0   \n",
       "1      193282        0.000000  419871.188521       0.224206         0   \n",
       "2      193282       27.421074  419871.188521       0.224206         0   \n",
       "3      193282      103.993129  419871.188521       0.224206         1   \n",
       "4      193282       39.838164  419871.188521       0.224206         1   \n",
       "\n",
       "   stamp_duty  priv_os_av_size  ann_price_change     long        lat  \\\n",
       "0           0            389.8          0.061941 -2.48654  51.356041   \n",
       "1           0            389.8         -0.135711 -2.48654  51.356041   \n",
       "2           0            389.8         -0.070570 -2.48654  51.356041   \n",
       "3           0            389.8          0.122327 -2.48654  51.356041   \n",
       "4           0            389.8         -0.046602 -2.48654  51.356041   \n",
       "\n",
       "   log_price    log_pop  log_cases  log_av_size  log_real_price  \n",
       "0  12.947703  12.171906   0.000000     5.965634       12.919236  \n",
       "1  12.947703  12.171906   0.000000     5.965634       12.816060  \n",
       "2  12.947703  12.171906   3.347131     5.965634       12.879527  \n",
       "3  12.947703  12.171906   4.653895     5.965634       13.059414  \n",
       "4  12.947703  12.171906   3.709617     5.965634       12.831321  "
      ]
     },
     "execution_count": 15,
     "metadata": {},
     "output_type": "execute_result"
    }
   ],
   "source": [
    "data_trial.head()"
   ]
  },
  {
   "cell_type": "code",
   "execution_count": 16,
   "metadata": {},
   "outputs": [],
   "source": [
    "last_mo_price = []\n",
    "last_mo_price.append(1)\n",
    "\n",
    "for i in range(0, 1098):\n",
    "    price = data_trial.real_price[i]\n",
    "    last_mo_price.append(price)"
   ]
  },
  {
   "cell_type": "code",
   "execution_count": 17,
   "metadata": {},
   "outputs": [],
   "source": [
    "data_trial['last_mo_price'] = last_mo_price"
   ]
  },
  {
   "cell_type": "code",
   "execution_count": 18,
   "metadata": {},
   "outputs": [],
   "source": [
    "data_trial_wo_jan = data_trial[data_trial['month']!= 1]"
   ]
  },
  {
   "cell_type": "code",
   "execution_count": 19,
   "metadata": {},
   "outputs": [
    {
     "data": {
      "text/plain": [
       "989"
      ]
     },
     "execution_count": 19,
     "metadata": {},
     "output_type": "execute_result"
    }
   ],
   "source": [
    "len(data_trial_wo_jan)"
   ]
  },
  {
   "cell_type": "markdown",
   "metadata": {},
   "source": [
    "# Defining Feature and Target Variables"
   ]
  },
  {
   "cell_type": "code",
   "execution_count": 20,
   "metadata": {},
   "outputs": [],
   "source": [
    "X = data_trial_wo_jan[['month', 'log_pop', 'log_cases', 'log_price', 'av_prop_flats', \n",
    "                'lockdown', 'stamp_duty', 'priv_os_av_size', 'last_mo_price', 'log_real_price']].values"
   ]
  },
  {
   "cell_type": "code",
   "execution_count": 21,
   "metadata": {},
   "outputs": [],
   "source": [
    "target_df = data_trial_wo_jan['ann_price_change']"
   ]
  },
  {
   "cell_type": "code",
   "execution_count": 22,
   "metadata": {},
   "outputs": [],
   "source": [
    "y = target_df.values.reshape((-1, 1))"
   ]
  },
  {
   "cell_type": "code",
   "execution_count": 26,
   "metadata": {},
   "outputs": [
    {
     "data": {
      "text/plain": [
       "array([[-1.35710551e-01],\n",
       "       [-7.05695016e-02],\n",
       "       [ 1.22327082e-01],\n",
       "       [-4.66016638e-02],\n",
       "       [-1.36441349e-02],\n",
       "       [-2.10164730e-02],\n",
       "       [ 1.16700736e-02],\n",
       "       [ 1.35656325e-01],\n",
       "       [-1.22130859e-01],\n",
       "       [ 3.78845977e-02],\n",
       "       [-4.27980651e-02],\n",
       "       [-2.15224942e-02],\n",
       "       [-2.46160884e-02],\n",
       "       [-1.06756633e-01],\n",
       "       [ 7.35701757e-02],\n",
       "       [ 8.26903644e-03],\n",
       "       [ 5.51635480e-02],\n",
       "       [-1.23737018e-02],\n",
       "       [-5.96490464e-02],\n",
       "       [ 2.54487992e-02],\n",
       "       [-1.47254309e-01],\n",
       "       [-6.53123016e-02],\n",
       "       [-6.77439393e-02],\n",
       "       [-4.83253625e-02],\n",
       "       [-8.27966191e-02],\n",
       "       [-1.57000286e-01],\n",
       "       [-1.02708957e-01],\n",
       "       [-4.14318006e-02],\n",
       "       [ 5.88779757e-02],\n",
       "       [-6.86779194e-02],\n",
       "       [ 4.91072981e-02],\n",
       "       [-6.34225283e-02],\n",
       "       [-8.86076167e-02],\n",
       "       [ 1.31151503e-02],\n",
       "       [-2.19711163e-03],\n",
       "       [ 9.98581429e-02],\n",
       "       [-1.20164899e-01],\n",
       "       [ 9.12489623e-02],\n",
       "       [-1.59004047e-01],\n",
       "       [-1.82928389e-01],\n",
       "       [-3.27213859e-03],\n",
       "       [ 3.53940208e-02],\n",
       "       [-2.28059027e-02],\n",
       "       [-1.02190603e-01],\n",
       "       [ 4.01332516e-02],\n",
       "       [ 1.51959699e-02],\n",
       "       [ 2.01549264e-02],\n",
       "       [-9.81691259e-02],\n",
       "       [ 7.10080408e-03],\n",
       "       [-1.77912464e-02],\n",
       "       [ 6.52400906e-02],\n",
       "       [ 1.05245132e-01],\n",
       "       [ 1.23020504e-01],\n",
       "       [-9.45281290e-02],\n",
       "       [-7.07372362e-02],\n",
       "       [-1.41881520e-01],\n",
       "       [-6.88922622e-02],\n",
       "       [-2.58241282e-01],\n",
       "       [-6.83684337e-02],\n",
       "       [ 5.23355281e-02],\n",
       "       [ 9.88863499e-02],\n",
       "       [-9.33608666e-02],\n",
       "       [-6.36790274e-02],\n",
       "       [ 9.00468553e-02],\n",
       "       [ 4.71665435e-03],\n",
       "       [-6.72619221e-02],\n",
       "       [-1.03284773e-01],\n",
       "       [ 3.65724151e-02],\n",
       "       [ 4.26379873e-02],\n",
       "       [ 4.80672599e-02],\n",
       "       [ 1.18187662e-01],\n",
       "       [ 1.28779803e-01],\n",
       "       [ 9.91814587e-02],\n",
       "       [ 2.26197112e-02],\n",
       "       [ 7.06961391e-02],\n",
       "       [ 1.24591063e-02],\n",
       "       [-1.03466607e-01],\n",
       "       [ 6.47936813e-02],\n",
       "       [ 1.35687383e-01],\n",
       "       [ 6.03449760e-03],\n",
       "       [ 1.46381088e-01],\n",
       "       [-1.08130408e-02],\n",
       "       [-3.30079149e-02],\n",
       "       [-3.23224243e-02],\n",
       "       [-4.06972751e-02],\n",
       "       [-3.75865298e-02],\n",
       "       [-2.71174807e-02],\n",
       "       [ 9.56309972e-02],\n",
       "       [ 2.91729557e-01],\n",
       "       [ 5.16874075e-02],\n",
       "       [ 3.54309464e-02],\n",
       "       [-3.64317471e-02],\n",
       "       [ 1.03238834e-01],\n",
       "       [-8.56152311e-02],\n",
       "       [ 5.74962863e-02],\n",
       "       [-2.76302108e-02],\n",
       "       [ 2.31793951e-02],\n",
       "       [ 3.49109130e-02],\n",
       "       [-5.76655857e-02],\n",
       "       [-9.33649281e-03],\n",
       "       [-5.15526521e-02],\n",
       "       [-1.34525515e-01],\n",
       "       [-7.77528514e-02],\n",
       "       [-3.83592037e-02],\n",
       "       [-8.81622206e-03],\n",
       "       [ 2.46905516e-02],\n",
       "       [ 5.58839147e-02],\n",
       "       [-7.30452117e-02],\n",
       "       [ 1.53219725e-02],\n",
       "       [ 7.12648287e-02],\n",
       "       [-3.54462850e-02],\n",
       "       [ 1.04268179e-02],\n",
       "       [ 2.96405302e-03],\n",
       "       [ 6.32082031e-02],\n",
       "       [-3.73380406e-02],\n",
       "       [ 3.89869627e-02],\n",
       "       [-6.61653932e-02],\n",
       "       [-1.14220036e-02],\n",
       "       [-3.43241226e-02],\n",
       "       [-1.68694385e-01],\n",
       "       [-7.99965132e-02],\n",
       "       [-2.75994992e-02],\n",
       "       [-4.34254600e-02],\n",
       "       [-5.56069929e-03],\n",
       "       [ 2.65911556e-02],\n",
       "       [-5.86542858e-02],\n",
       "       [ 1.81732490e-02],\n",
       "       [-5.77422182e-02],\n",
       "       [ 8.77384343e-03],\n",
       "       [-5.57751416e-02],\n",
       "       [-3.18129311e-02],\n",
       "       [ 5.70239919e-02],\n",
       "       [ 4.75307859e-03],\n",
       "       [ 6.83677754e-02],\n",
       "       [ 3.59673033e-02],\n",
       "       [-1.09967284e-02],\n",
       "       [-4.16620419e-02],\n",
       "       [-1.23684052e-03],\n",
       "       [-2.87629784e-02],\n",
       "       [-3.15393168e-02],\n",
       "       [ 2.81502740e-02],\n",
       "       [ 4.42623751e-02],\n",
       "       [-1.85663615e-01],\n",
       "       [-9.14054734e-04],\n",
       "       [-4.79242301e-02],\n",
       "       [ 7.64351469e-04],\n",
       "       [-8.62576456e-02],\n",
       "       [-1.68287530e-01],\n",
       "       [-3.90822842e-02],\n",
       "       [ 1.55841362e-01],\n",
       "       [ 2.47546616e-02],\n",
       "       [ 6.49122807e-02],\n",
       "       [ 4.67794372e-02],\n",
       "       [ 9.57329083e-02],\n",
       "       [ 3.33886658e-02],\n",
       "       [ 1.29472952e-02],\n",
       "       [-4.67401225e-02],\n",
       "       [ 8.58119075e-03],\n",
       "       [-4.51703500e-03],\n",
       "       [ 1.06663358e-01],\n",
       "       [ 1.12040441e-01],\n",
       "       [ 7.02529084e-02],\n",
       "       [ 1.35587421e-02],\n",
       "       [-2.18457476e-02],\n",
       "       [-2.97760364e-02],\n",
       "       [ 9.09886113e-02],\n",
       "       [ 1.37318085e-01],\n",
       "       [ 7.12655752e-02],\n",
       "       [ 1.06960209e-01],\n",
       "       [ 1.85745318e-01],\n",
       "       [ 1.87997848e-02],\n",
       "       [-7.09310787e-02],\n",
       "       [ 1.88337090e-02],\n",
       "       [-1.19088921e-01],\n",
       "       [-6.96802688e-02],\n",
       "       [-7.39703678e-02],\n",
       "       [-4.97879820e-02],\n",
       "       [ 6.49465008e-02],\n",
       "       [-3.61392383e-02],\n",
       "       [-7.07603394e-02],\n",
       "       [ 7.55402945e-02],\n",
       "       [-3.54208121e-02],\n",
       "       [-5.72732386e-02],\n",
       "       [-5.14091599e-02],\n",
       "       [-3.65872291e-02],\n",
       "       [-9.42436667e-03],\n",
       "       [-5.14463114e-02],\n",
       "       [ 8.92587441e-03],\n",
       "       [ 3.46336352e-03],\n",
       "       [-2.76443790e-02],\n",
       "       [-5.07457794e-02],\n",
       "       [ 2.08300882e-04],\n",
       "       [ 1.50538651e-02],\n",
       "       [ 3.68917677e-02],\n",
       "       [ 3.72456865e-02],\n",
       "       [ 1.30683925e-01],\n",
       "       [ 2.73614887e-01],\n",
       "       [ 3.73282978e-02],\n",
       "       [ 9.75120211e-02],\n",
       "       [-4.93865799e-03],\n",
       "       [ 1.63787019e-01],\n",
       "       [-1.11792141e-02],\n",
       "       [-5.93604158e-03],\n",
       "       [ 7.05375414e-02],\n",
       "       [-3.88935565e-02],\n",
       "       [-1.78107588e-01],\n",
       "       [ 5.06039855e-02],\n",
       "       [-9.81685248e-03],\n",
       "       [ 6.25281838e-03],\n",
       "       [-1.07501453e-01],\n",
       "       [-4.21444924e-02],\n",
       "       [ 2.83326296e-02],\n",
       "       [ 4.32255637e-02],\n",
       "       [ 3.06687427e-02],\n",
       "       [ 4.84715512e-02],\n",
       "       [-1.11689204e-02],\n",
       "       [-1.51370252e-02],\n",
       "       [-1.42372442e-02],\n",
       "       [ 3.50257818e-02],\n",
       "       [-6.28620986e-02],\n",
       "       [-6.58563095e-02],\n",
       "       [ 3.53630610e-02],\n",
       "       [ 4.11375346e-02],\n",
       "       [ 2.37469443e-01],\n",
       "       [-1.29933926e-01],\n",
       "       [-9.93810871e-03],\n",
       "       [ 9.75789124e-02],\n",
       "       [ 9.57326856e-02],\n",
       "       [ 2.47184390e-02],\n",
       "       [-1.54354441e-02],\n",
       "       [ 2.62229352e-02],\n",
       "       [ 5.94219092e-02],\n",
       "       [ 1.06575010e-01],\n",
       "       [-1.22758264e-02],\n",
       "       [-8.20481461e-03],\n",
       "       [-9.59904559e-02],\n",
       "       [-2.05747733e-01],\n",
       "       [-1.10688446e-01],\n",
       "       [-1.24663452e-01],\n",
       "       [-8.39237697e-02],\n",
       "       [-7.45162025e-02],\n",
       "       [-1.06076621e-01],\n",
       "       [-1.22599410e-01],\n",
       "       [-4.75305562e-02],\n",
       "       [-8.22389983e-03],\n",
       "       [-7.85347753e-02],\n",
       "       [-6.64687813e-02],\n",
       "       [-2.35504914e-02],\n",
       "       [-1.18654659e-01],\n",
       "       [-2.30635637e-02],\n",
       "       [-8.24030927e-02],\n",
       "       [-1.05804279e-01],\n",
       "       [-6.43197543e-03],\n",
       "       [ 1.13967797e-01],\n",
       "       [-6.71286094e-02],\n",
       "       [-1.02712673e-01],\n",
       "       [-1.43201448e-01],\n",
       "       [-1.35314625e-01],\n",
       "       [-1.74317195e-02],\n",
       "       [-9.73509890e-02],\n",
       "       [-1.08556374e-01],\n",
       "       [ 5.33943465e-02],\n",
       "       [-1.30242215e-04],\n",
       "       [ 2.09228743e-02],\n",
       "       [-1.13833480e-01],\n",
       "       [ 5.28709910e-02],\n",
       "       [ 6.23599073e-02],\n",
       "       [ 7.52017167e-02],\n",
       "       [-9.91767423e-02],\n",
       "       [-2.78827993e-02],\n",
       "       [ 3.22621755e-02],\n",
       "       [-4.54407862e-02],\n",
       "       [-1.39126262e-01],\n",
       "       [-4.74144422e-02],\n",
       "       [-3.37493839e-02],\n",
       "       [ 2.67907589e-02],\n",
       "       [ 3.15212952e-02],\n",
       "       [-2.97610715e-02],\n",
       "       [ 1.09215802e-02],\n",
       "       [-1.67391310e-02],\n",
       "       [ 5.46676215e-02],\n",
       "       [-6.65511222e-02],\n",
       "       [-6.29124456e-02],\n",
       "       [-9.18051714e-03],\n",
       "       [ 5.57238441e-02],\n",
       "       [ 1.31539795e-01],\n",
       "       [ 7.13053122e-02],\n",
       "       [ 9.15141657e-02],\n",
       "       [-3.93941700e-02],\n",
       "       [ 3.27874568e-02],\n",
       "       [-2.06820061e-02],\n",
       "       [-6.70107585e-03],\n",
       "       [-2.65276522e-02],\n",
       "       [ 1.49048631e-02],\n",
       "       [ 4.81758405e-02],\n",
       "       [ 1.22086930e-01],\n",
       "       [ 1.08065775e-02],\n",
       "       [-9.74428589e-04],\n",
       "       [-9.51483952e-03],\n",
       "       [-1.35287985e-01],\n",
       "       [-8.07301642e-03],\n",
       "       [-4.42234169e-03],\n",
       "       [-1.41312132e-02],\n",
       "       [-3.34590482e-02],\n",
       "       [ 1.38796475e-01],\n",
       "       [ 2.74219682e-02],\n",
       "       [ 1.01058415e-02],\n",
       "       [ 4.84521101e-02],\n",
       "       [ 3.15080592e-02],\n",
       "       [ 3.18253267e-02],\n",
       "       [ 9.29356249e-03],\n",
       "       [ 3.12429613e-02],\n",
       "       [ 8.21352589e-02],\n",
       "       [ 8.67971307e-02],\n",
       "       [ 4.19918849e-02],\n",
       "       [-2.33192631e-02],\n",
       "       [-4.12917179e-02],\n",
       "       [-4.45123536e-02],\n",
       "       [-7.12829698e-02],\n",
       "       [-1.67593199e-02],\n",
       "       [-3.72536268e-02],\n",
       "       [ 8.19984362e-02],\n",
       "       [ 4.63108056e-02],\n",
       "       [ 2.20758117e-03],\n",
       "       [ 5.15686074e-03],\n",
       "       [-5.49929153e-02],\n",
       "       [-1.74931770e-01],\n",
       "       [-4.42967963e-02],\n",
       "       [-7.43265785e-02],\n",
       "       [-9.96923011e-02],\n",
       "       [-1.78123117e-03],\n",
       "       [ 4.55124089e-02],\n",
       "       [ 4.84651031e-02],\n",
       "       [-2.53540316e-02],\n",
       "       [ 2.81470954e-02],\n",
       "       [-3.64211467e-03],\n",
       "       [-7.23524095e-02],\n",
       "       [-4.82475478e-02],\n",
       "       [ 7.31913677e-02],\n",
       "       [ 4.88619246e-02],\n",
       "       [ 5.48042093e-02],\n",
       "       [-2.38751246e-02],\n",
       "       [ 1.64729430e-02],\n",
       "       [ 7.17952090e-02],\n",
       "       [ 1.70714145e-01],\n",
       "       [ 1.70640708e-02],\n",
       "       [-2.46810245e-02],\n",
       "       [ 4.53660085e-02],\n",
       "       [ 7.06876796e-02],\n",
       "       [ 1.66815060e-01],\n",
       "       [ 5.71359501e-02],\n",
       "       [ 6.55179664e-02],\n",
       "       [ 4.51605823e-02],\n",
       "       [-6.63438906e-02],\n",
       "       [-4.21846639e-02],\n",
       "       [-2.48288357e-02],\n",
       "       [ 5.97610755e-03],\n",
       "       [ 6.10586710e-02],\n",
       "       [ 2.97275413e-02],\n",
       "       [-2.11856403e-02],\n",
       "       [ 3.84009143e-02],\n",
       "       [-1.38320436e-02],\n",
       "       [-5.44871345e-02],\n",
       "       [-1.00312201e-01],\n",
       "       [-6.57408209e-03],\n",
       "       [ 1.23969630e-01],\n",
       "       [ 1.47407034e-01],\n",
       "       [-1.34268909e-01],\n",
       "       [ 1.08535904e-01],\n",
       "       [-1.47194347e-01],\n",
       "       [-3.87009036e-02],\n",
       "       [-1.70282209e-01],\n",
       "       [-1.32513260e-01],\n",
       "       [ 3.17647818e-02],\n",
       "       [ 3.55595865e-02],\n",
       "       [ 7.42756407e-02],\n",
       "       [-1.51248592e-01],\n",
       "       [ 9.40591562e-02],\n",
       "       [-4.17158775e-02],\n",
       "       [ 4.46523186e-03],\n",
       "       [-8.11313864e-03],\n",
       "       [-3.68711683e-03],\n",
       "       [ 2.94323018e-02],\n",
       "       [ 4.74624794e-02],\n",
       "       [ 8.77547489e-02],\n",
       "       [ 5.91922650e-02],\n",
       "       [ 1.42638630e-03],\n",
       "       [-5.02515327e-02],\n",
       "       [-2.00399548e-01],\n",
       "       [-7.46198347e-02],\n",
       "       [ 1.25789505e-01],\n",
       "       [-2.26669849e-01],\n",
       "       [-2.07050788e-02],\n",
       "       [-1.39317459e-01],\n",
       "       [-9.87786975e-02],\n",
       "       [-6.53854385e-02],\n",
       "       [ 1.20161858e-01],\n",
       "       [ 2.38124626e-02],\n",
       "       [-3.29051105e-02],\n",
       "       [-7.29544485e-02],\n",
       "       [-2.34319077e-02],\n",
       "       [ 2.33551976e-02],\n",
       "       [ 7.88450750e-02],\n",
       "       [ 1.17581169e-01],\n",
       "       [-1.65611532e-02],\n",
       "       [ 2.32501051e-01],\n",
       "       [ 1.75432861e-02],\n",
       "       [-1.64367306e-04],\n",
       "       [-7.85483494e-03],\n",
       "       [-1.49767731e-02],\n",
       "       [ 5.55843084e-02],\n",
       "       [ 9.11508556e-02],\n",
       "       [ 1.67603752e-01],\n",
       "       [-3.64286703e-02],\n",
       "       [ 3.17897547e-02],\n",
       "       [ 8.49422978e-02],\n",
       "       [ 9.60238833e-02],\n",
       "       [ 1.19240330e-01],\n",
       "       [ 2.55188784e-02],\n",
       "       [ 9.48733050e-02],\n",
       "       [-5.48343611e-02],\n",
       "       [ 9.43277636e-02],\n",
       "       [ 3.77216908e-01],\n",
       "       [-1.04774750e-02],\n",
       "       [-1.10021174e-02],\n",
       "       [ 3.04191061e-02],\n",
       "       [-1.72068316e-01],\n",
       "       [ 1.22524032e-01],\n",
       "       [ 7.54066107e-02],\n",
       "       [ 2.17799907e-02],\n",
       "       [ 2.30895460e-01],\n",
       "       [-1.75608957e-02],\n",
       "       [ 2.15052553e-02],\n",
       "       [-3.13986846e-03],\n",
       "       [ 3.41454011e-02],\n",
       "       [-3.74440069e-03],\n",
       "       [-1.30765031e-03],\n",
       "       [-1.82634268e-02],\n",
       "       [ 3.40641124e-02],\n",
       "       [ 1.23364432e-01],\n",
       "       [-1.96465843e-02],\n",
       "       [ 6.65465028e-03],\n",
       "       [ 1.53576802e-02],\n",
       "       [-1.03373498e-01],\n",
       "       [-4.16604904e-02],\n",
       "       [-3.90610200e-02],\n",
       "       [-3.31422096e-02],\n",
       "       [-3.01439358e-02],\n",
       "       [ 2.16731601e-02],\n",
       "       [-6.65714444e-02],\n",
       "       [ 4.66932228e-02],\n",
       "       [ 7.59991786e-02],\n",
       "       [-1.29067555e-01],\n",
       "       [ 3.94383720e-02],\n",
       "       [ 1.39842854e-02],\n",
       "       [ 5.63028215e-02],\n",
       "       [ 5.53912458e-02],\n",
       "       [ 1.16842514e-01],\n",
       "       [ 1.07742759e-03],\n",
       "       [ 6.22792645e-03],\n",
       "       [-5.86455720e-02],\n",
       "       [ 2.45577541e-02],\n",
       "       [-7.78973131e-02],\n",
       "       [-2.41149143e-03],\n",
       "       [ 8.14411074e-02],\n",
       "       [-1.69173720e-02],\n",
       "       [ 8.83163580e-03],\n",
       "       [-3.89651970e-02],\n",
       "       [ 5.72129103e-03],\n",
       "       [-1.97078037e-02],\n",
       "       [-5.41846205e-02],\n",
       "       [-2.19783911e-02],\n",
       "       [ 4.56833249e-02],\n",
       "       [-7.88626647e-05],\n",
       "       [-1.53195647e-02],\n",
       "       [ 1.21619106e-01],\n",
       "       [-3.08611378e-02],\n",
       "       [-8.20591705e-03],\n",
       "       [ 7.77167250e-02],\n",
       "       [ 5.37823206e-02],\n",
       "       [-8.55230706e-04],\n",
       "       [ 7.60672582e-02],\n",
       "       [ 3.33873928e-02],\n",
       "       [-4.98326265e-02],\n",
       "       [-1.54958615e-02],\n",
       "       [-7.11642847e-02],\n",
       "       [-1.11598989e-02],\n",
       "       [ 4.87730841e-02],\n",
       "       [-7.09648215e-02],\n",
       "       [-3.18306386e-02],\n",
       "       [-2.79219108e-02],\n",
       "       [-1.05126778e-02],\n",
       "       [ 1.48683411e-02],\n",
       "       [-2.68134932e-02],\n",
       "       [ 4.53094694e-02],\n",
       "       [-2.80782589e-03],\n",
       "       [-7.65306019e-04],\n",
       "       [-4.53663764e-02],\n",
       "       [-4.16620110e-02],\n",
       "       [ 5.85950310e-02],\n",
       "       [ 5.63104301e-02],\n",
       "       [ 5.00030460e-02],\n",
       "       [ 6.22383269e-02],\n",
       "       [-7.29457324e-02],\n",
       "       [ 1.77401830e-01],\n",
       "       [ 2.09831163e-01],\n",
       "       [-1.10255663e-01],\n",
       "       [-2.73124191e-02],\n",
       "       [ 2.13804735e-03],\n",
       "       [ 3.73588841e-04],\n",
       "       [-6.93867985e-02],\n",
       "       [-1.40114050e-01],\n",
       "       [-3.31484900e-01],\n",
       "       [-5.26092097e-03],\n",
       "       [-5.13789096e-02],\n",
       "       [-1.94485499e-01],\n",
       "       [-1.34141976e-01],\n",
       "       [-1.67807683e-01],\n",
       "       [-1.22096140e-01],\n",
       "       [-1.97431821e-01],\n",
       "       [-1.48538555e-01],\n",
       "       [-3.81844265e-02],\n",
       "       [ 3.26845396e-02],\n",
       "       [-2.85259726e-02],\n",
       "       [-8.88043157e-02],\n",
       "       [-1.26962860e-01],\n",
       "       [-8.44279341e-02],\n",
       "       [-2.57359535e-02],\n",
       "       [ 1.43825975e-01],\n",
       "       [ 2.26751789e-01],\n",
       "       [-7.37005528e-02],\n",
       "       [-4.77189661e-02],\n",
       "       [ 7.37007955e-02],\n",
       "       [ 1.17597854e-03],\n",
       "       [ 3.69471021e-02],\n",
       "       [ 9.02465810e-03],\n",
       "       [ 4.93349808e-02],\n",
       "       [ 1.44963913e-01],\n",
       "       [ 4.15374662e-02],\n",
       "       [-2.95332128e-02],\n",
       "       [ 6.27028145e-02],\n",
       "       [ 7.53698466e-02],\n",
       "       [-1.40119100e-01],\n",
       "       [ 6.58528573e-03],\n",
       "       [-1.26871635e-01],\n",
       "       [ 6.11229951e-02],\n",
       "       [-6.97288953e-02],\n",
       "       [-4.68053396e-02],\n",
       "       [-1.85881382e-01],\n",
       "       [-1.40359254e-02],\n",
       "       [-4.73360064e-02],\n",
       "       [-1.01836641e-01],\n",
       "       [-1.63723051e-02],\n",
       "       [-5.88318846e-03],\n",
       "       [ 5.53133763e-02],\n",
       "       [-3.53993882e-02],\n",
       "       [ 1.57939060e-01],\n",
       "       [ 5.31341688e-02],\n",
       "       [-2.12942840e-02],\n",
       "       [ 2.92852288e-03],\n",
       "       [-1.78003443e-02],\n",
       "       [-7.24125756e-02],\n",
       "       [-2.02972023e-02],\n",
       "       [-5.51176476e-03],\n",
       "       [ 1.67035844e-02],\n",
       "       [ 1.16224377e-01],\n",
       "       [ 1.05565607e-02],\n",
       "       [-7.85887696e-02],\n",
       "       [ 7.06790179e-02],\n",
       "       [-7.73574197e-02],\n",
       "       [-1.97994664e-02],\n",
       "       [-5.52175200e-02],\n",
       "       [-1.15319821e-01],\n",
       "       [ 8.18289855e-02],\n",
       "       [ 1.95022570e-02],\n",
       "       [-5.65386068e-02],\n",
       "       [-6.32302206e-02],\n",
       "       [ 1.09408898e-01],\n",
       "       [ 2.10153405e-02],\n",
       "       [ 1.39906539e-03],\n",
       "       [-3.96024753e-02],\n",
       "       [ 4.09532624e-02],\n",
       "       [ 4.75246543e-03],\n",
       "       [-2.13347071e-02],\n",
       "       [ 6.18297100e-02],\n",
       "       [-1.44346835e-02],\n",
       "       [ 1.03615643e-02],\n",
       "       [-3.25251560e-02],\n",
       "       [-4.62371382e-03],\n",
       "       [-5.93631463e-02],\n",
       "       [-9.47802296e-02],\n",
       "       [ 6.42699152e-02],\n",
       "       [ 7.45434262e-03],\n",
       "       [-1.42543150e-01],\n",
       "       [-4.44165432e-02],\n",
       "       [ 2.95830401e-02],\n",
       "       [-8.03260553e-02],\n",
       "       [-2.29724385e-02],\n",
       "       [-1.90662490e-02],\n",
       "       [-7.38422534e-02],\n",
       "       [ 7.60670595e-02],\n",
       "       [ 5.44447441e-02],\n",
       "       [-7.78737155e-02],\n",
       "       [-1.07879931e-02],\n",
       "       [-2.18945690e-02],\n",
       "       [-8.36502432e-02],\n",
       "       [-4.17347503e-02],\n",
       "       [-4.43986747e-02],\n",
       "       [-2.31311472e-02],\n",
       "       [-3.92281788e-03],\n",
       "       [ 3.18458486e-02],\n",
       "       [ 7.75850668e-03],\n",
       "       [-3.00587435e-02],\n",
       "       [ 4.00762881e-02],\n",
       "       [-3.54291483e-03],\n",
       "       [-7.58738985e-02],\n",
       "       [ 7.85261791e-02],\n",
       "       [-2.63212169e-02],\n",
       "       [ 3.91205743e-02],\n",
       "       [ 5.84510714e-02],\n",
       "       [-1.02546891e-01],\n",
       "       [ 2.11506678e-02],\n",
       "       [ 5.51783716e-03],\n",
       "       [-8.23028253e-02],\n",
       "       [-3.09557868e-02],\n",
       "       [-1.42834083e-02],\n",
       "       [ 1.43137235e-02],\n",
       "       [ 1.56984862e-02],\n",
       "       [ 3.51458094e-02],\n",
       "       [ 4.67359546e-02],\n",
       "       [ 9.24044882e-03],\n",
       "       [-4.68585151e-02],\n",
       "       [ 1.44029669e-01],\n",
       "       [-3.33905826e-02],\n",
       "       [ 1.02538289e-02],\n",
       "       [-3.41619181e-02],\n",
       "       [ 1.49343105e-01],\n",
       "       [ 1.32895234e-01],\n",
       "       [ 4.99083210e-02],\n",
       "       [ 2.07647650e-01],\n",
       "       [ 1.10916647e-01],\n",
       "       [-7.29058448e-02],\n",
       "       [-2.42160298e-02],\n",
       "       [-4.63394875e-03],\n",
       "       [ 7.13480553e-02],\n",
       "       [-4.75406834e-02],\n",
       "       [-4.38402871e-02],\n",
       "       [-1.01290490e-01],\n",
       "       [ 2.86281090e-02],\n",
       "       [ 2.42285156e-02],\n",
       "       [ 3.74498098e-02],\n",
       "       [-7.32280260e-02],\n",
       "       [ 4.04672087e-02],\n",
       "       [ 4.15478328e-02],\n",
       "       [ 5.81204092e-02],\n",
       "       [ 1.26447848e-02],\n",
       "       [-1.46591995e-02],\n",
       "       [ 2.27681092e-02],\n",
       "       [-2.81806723e-02],\n",
       "       [-1.31033471e-01],\n",
       "       [ 1.65182839e-01],\n",
       "       [ 7.06010199e-02],\n",
       "       [ 9.65333450e-02],\n",
       "       [ 1.62975958e-01],\n",
       "       [-6.12863555e-02],\n",
       "       [ 1.51032694e-01],\n",
       "       [-1.06495670e-01],\n",
       "       [-2.75383984e-02],\n",
       "       [-6.91310537e-02],\n",
       "       [-1.31153898e-01],\n",
       "       [-9.61463260e-02],\n",
       "       [ 1.90254852e-02],\n",
       "       [ 8.48102765e-02],\n",
       "       [ 2.06606748e-02],\n",
       "       [ 2.81180165e-01],\n",
       "       [-2.91198098e-02],\n",
       "       [ 1.16744987e-01],\n",
       "       [-9.82826283e-02],\n",
       "       [-5.94219370e-02],\n",
       "       [-2.02904561e-02],\n",
       "       [-2.07949583e-02],\n",
       "       [-4.21624331e-02],\n",
       "       [-1.17214789e-01],\n",
       "       [-1.34024708e-01],\n",
       "       [ 2.99455117e-03],\n",
       "       [ 3.19869850e-02],\n",
       "       [ 1.75050304e-02],\n",
       "       [-4.10211328e-02],\n",
       "       [-8.61543631e-02],\n",
       "       [ 2.12288079e-02],\n",
       "       [-4.12429024e-02],\n",
       "       [-1.73643740e-01],\n",
       "       [-1.28086201e-01],\n",
       "       [-1.31392222e-01],\n",
       "       [ 3.35706994e-01],\n",
       "       [-1.39593973e-01],\n",
       "       [ 5.95990253e-03],\n",
       "       [ 1.45329549e-01],\n",
       "       [ 6.90653321e-02],\n",
       "       [ 3.65968216e-01],\n",
       "       [ 2.94587418e-02],\n",
       "       [ 1.74342930e-03],\n",
       "       [ 6.52729218e-03],\n",
       "       [-1.81245203e-02],\n",
       "       [-5.40338758e-02],\n",
       "       [-3.54738379e-02],\n",
       "       [-3.31369570e-02],\n",
       "       [ 1.03052680e-01],\n",
       "       [-2.11405096e-02],\n",
       "       [ 4.42845286e-02],\n",
       "       [-1.13824245e-01],\n",
       "       [-3.82403638e-02],\n",
       "       [-5.31482321e-03],\n",
       "       [ 2.73806703e-02],\n",
       "       [-7.96568421e-03],\n",
       "       [ 4.47543123e-02],\n",
       "       [-3.11484974e-02],\n",
       "       [ 7.74781337e-02],\n",
       "       [ 4.27794462e-02],\n",
       "       [-1.74187587e-02],\n",
       "       [ 3.82027188e-02],\n",
       "       [ 5.27935522e-03],\n",
       "       [-2.55222973e-02],\n",
       "       [ 9.94719123e-03],\n",
       "       [-1.79315045e-02],\n",
       "       [-5.74780346e-03],\n",
       "       [ 4.79595579e-02],\n",
       "       [ 1.06922552e-01],\n",
       "       [-1.84652794e-01],\n",
       "       [ 8.19132426e-02],\n",
       "       [-2.64513540e-02],\n",
       "       [ 2.10810477e-02],\n",
       "       [-9.83963294e-02],\n",
       "       [-7.61662195e-02],\n",
       "       [ 2.93638260e-02],\n",
       "       [ 1.42309890e-02],\n",
       "       [-4.37080848e-02],\n",
       "       [-1.57431687e-01],\n",
       "       [-8.29633330e-02],\n",
       "       [ 3.01188396e-02],\n",
       "       [-9.55930447e-02],\n",
       "       [-9.48866784e-03],\n",
       "       [ 4.85392034e-04],\n",
       "       [-2.70418873e-02],\n",
       "       [ 2.76037512e-02],\n",
       "       [ 1.83765841e-02],\n",
       "       [-1.00728481e-01],\n",
       "       [-6.97568734e-02],\n",
       "       [-7.59277252e-02],\n",
       "       [-5.52443431e-02],\n",
       "       [ 4.61572863e-02],\n",
       "       [ 4.21258925e-02],\n",
       "       [-1.26421422e-03],\n",
       "       [-1.02531863e-01],\n",
       "       [ 1.79802150e-02],\n",
       "       [-2.59966948e-01],\n",
       "       [ 8.71759910e-03],\n",
       "       [ 2.07006108e-02],\n",
       "       [ 1.73560136e-01],\n",
       "       [-8.06105352e-02],\n",
       "       [ 1.72501265e-01],\n",
       "       [-1.97970414e-02],\n",
       "       [ 7.27311112e-02],\n",
       "       [ 1.13666515e-01],\n",
       "       [ 3.58512648e-02],\n",
       "       [-2.79778552e-02],\n",
       "       [ 2.09310602e-02],\n",
       "       [-7.62830619e-02],\n",
       "       [-3.05935213e-02],\n",
       "       [-2.12537611e-02],\n",
       "       [ 6.60406165e-03],\n",
       "       [ 6.04648460e-02],\n",
       "       [ 3.99739775e-02],\n",
       "       [-2.33512795e-01],\n",
       "       [-9.29952044e-02],\n",
       "       [ 2.68320267e-02],\n",
       "       [-1.19715893e-01],\n",
       "       [ 1.82490278e-02],\n",
       "       [-1.23654786e-01],\n",
       "       [-9.48079919e-02],\n",
       "       [ 1.05899155e-02],\n",
       "       [-6.85827978e-02],\n",
       "       [-2.13615760e-01],\n",
       "       [-5.78032475e-02],\n",
       "       [ 5.58326454e-02],\n",
       "       [-1.53592736e-01],\n",
       "       [-7.41748873e-02],\n",
       "       [ 1.96328874e-02],\n",
       "       [-2.68137689e-03],\n",
       "       [ 1.15201061e-02],\n",
       "       [-7.10602505e-02],\n",
       "       [-7.62172989e-02],\n",
       "       [-4.03737837e-02],\n",
       "       [-5.51127000e-02],\n",
       "       [ 7.30596632e-03],\n",
       "       [-7.57052074e-02],\n",
       "       [-2.21101420e-02],\n",
       "       [ 4.56777811e-02],\n",
       "       [ 6.46871306e-03],\n",
       "       [ 6.22612463e-02],\n",
       "       [-3.89538883e-02],\n",
       "       [-5.27016803e-02],\n",
       "       [ 4.06158232e-02],\n",
       "       [ 5.68984930e-02],\n",
       "       [ 2.85841264e-02],\n",
       "       [ 2.52435590e-02],\n",
       "       [-1.58828559e-02],\n",
       "       [ 1.29238889e-01],\n",
       "       [ 1.66569388e-01],\n",
       "       [ 8.62292673e-03],\n",
       "       [ 8.46303240e-02],\n",
       "       [ 1.77704480e-02],\n",
       "       [-1.42456230e-01],\n",
       "       [ 1.73574012e-01],\n",
       "       [ 1.92725199e-01],\n",
       "       [ 3.63723357e-02],\n",
       "       [-1.49895413e-02],\n",
       "       [ 6.93924936e-02],\n",
       "       [-3.15205101e-02],\n",
       "       [-5.59614463e-02],\n",
       "       [ 4.34699418e-03],\n",
       "       [-1.10048080e-01],\n",
       "       [-8.61396755e-02],\n",
       "       [-9.67629290e-02],\n",
       "       [-1.26936399e-03],\n",
       "       [-3.51519765e-02],\n",
       "       [ 5.99804016e-02],\n",
       "       [-1.08614111e-01],\n",
       "       [-1.72554105e-02],\n",
       "       [ 2.82859428e-02],\n",
       "       [-1.15610268e-02],\n",
       "       [ 6.50494769e-02],\n",
       "       [ 1.53327115e-01],\n",
       "       [-7.13068606e-03],\n",
       "       [ 1.00208767e-01],\n",
       "       [-7.65035670e-02],\n",
       "       [ 8.37019852e-02],\n",
       "       [-6.73889147e-02],\n",
       "       [-1.53112084e-02],\n",
       "       [-2.43866489e-03],\n",
       "       [-6.44928967e-02],\n",
       "       [ 1.63566622e-02],\n",
       "       [ 4.46080743e-02],\n",
       "       [ 1.47770999e-01],\n",
       "       [ 6.22988599e-02],\n",
       "       [-1.61192278e-02],\n",
       "       [-3.61907509e-02],\n",
       "       [ 4.12610781e-02],\n",
       "       [ 2.54310026e-02],\n",
       "       [ 5.87759082e-02],\n",
       "       [ 1.14380917e-01],\n",
       "       [-5.59716891e-02],\n",
       "       [ 7.24178886e-03],\n",
       "       [ 8.67315917e-02],\n",
       "       [-2.31491340e-01],\n",
       "       [ 2.04044445e-02],\n",
       "       [ 6.07651777e-02],\n",
       "       [-2.01537935e-01],\n",
       "       [-1.10728478e-01],\n",
       "       [ 4.14158414e-02],\n",
       "       [ 4.84940293e-03],\n",
       "       [-8.93908022e-02],\n",
       "       [-5.99090087e-02],\n",
       "       [-4.38665924e-02],\n",
       "       [-3.74671514e-02],\n",
       "       [ 7.82166836e-03],\n",
       "       [-9.77067141e-02],\n",
       "       [-6.25178113e-02],\n",
       "       [-8.08788976e-02],\n",
       "       [-2.78110504e-02],\n",
       "       [-4.27745433e-02],\n",
       "       [ 6.68820832e-03],\n",
       "       [ 5.19001308e-02],\n",
       "       [ 2.12261003e-02],\n",
       "       [ 3.69757223e-02],\n",
       "       [-1.03123845e-01],\n",
       "       [-7.87242637e-02],\n",
       "       [-8.48687949e-03],\n",
       "       [ 7.96985895e-03],\n",
       "       [-3.28542631e-02],\n",
       "       [ 9.53636294e-02],\n",
       "       [-7.34607480e-02],\n",
       "       [ 2.18007421e-02],\n",
       "       [-9.43531237e-03],\n",
       "       [-1.91374028e-02],\n",
       "       [-1.07726929e-01],\n",
       "       [ 3.90929649e-02],\n",
       "       [ 5.56755761e-02],\n",
       "       [ 3.54100173e-02],\n",
       "       [ 2.18502233e-02],\n",
       "       [-7.57965587e-02],\n",
       "       [-8.77063852e-02],\n",
       "       [-1.11309568e-01],\n",
       "       [ 1.55247180e-01],\n",
       "       [ 8.74987761e-02],\n",
       "       [-1.01403495e-01],\n",
       "       [-6.17960861e-02],\n",
       "       [-3.85215547e-03],\n",
       "       [ 2.04322708e-01],\n",
       "       [-5.80529453e-02],\n",
       "       [ 3.34609372e-03],\n",
       "       [-2.24326238e-02],\n",
       "       [-4.49610921e-02],\n",
       "       [-7.12089380e-03],\n",
       "       [ 3.01145350e-02],\n",
       "       [ 3.56908919e-02],\n",
       "       [-6.59216882e-03],\n",
       "       [ 5.32588480e-02],\n",
       "       [ 2.75741528e-03],\n",
       "       [-1.24468543e-02],\n",
       "       [ 4.06093033e-02],\n",
       "       [ 2.50162103e-02],\n",
       "       [ 1.00173711e-03],\n",
       "       [-5.77906487e-02],\n",
       "       [ 2.06759408e-02],\n",
       "       [ 7.70568002e-02],\n",
       "       [ 1.16026864e-01],\n",
       "       [ 6.13820243e-02],\n",
       "       [ 1.90600074e-02],\n",
       "       [ 1.42980964e-02],\n",
       "       [-6.57689811e-02],\n",
       "       [-6.97466586e-02],\n",
       "       [-1.41272222e-03],\n",
       "       [ 4.37773759e-02],\n",
       "       [ 2.42017482e-02],\n",
       "       [ 6.91445515e-02],\n",
       "       [-2.22350702e-03],\n",
       "       [-5.87073054e-03],\n",
       "       [ 3.94143489e-02],\n",
       "       [-1.15410321e-01],\n",
       "       [-1.45308966e-02],\n",
       "       [ 1.10614516e-02],\n",
       "       [ 5.82917504e-02],\n",
       "       [ 6.86848283e-03],\n",
       "       [-1.36037088e-01],\n",
       "       [ 3.18425506e-02],\n",
       "       [-1.06201123e-01],\n",
       "       [ 2.50876620e-01],\n",
       "       [ 4.09408194e-01],\n",
       "       [ 6.96375443e-02],\n",
       "       [-2.62386178e-03],\n",
       "       [ 4.56815954e-02],\n",
       "       [ 8.34913993e-02],\n",
       "       [-6.35700722e-02],\n",
       "       [ 5.45332747e-02],\n",
       "       [-3.23406839e-02],\n",
       "       [-1.00177126e-01],\n",
       "       [-1.18719143e-01],\n",
       "       [ 1.91876936e-02],\n",
       "       [-1.79692392e-02],\n",
       "       [ 4.49979791e-02],\n",
       "       [-5.68220672e-02],\n",
       "       [-4.60383633e-02],\n",
       "       [ 2.31816595e-02],\n",
       "       [-1.07786026e-02],\n",
       "       [-1.00015027e-01],\n",
       "       [-5.74772245e-02],\n",
       "       [-8.73197093e-02],\n",
       "       [-3.79942241e-03],\n",
       "       [ 8.62420442e-02],\n",
       "       [ 5.96837137e-02],\n",
       "       [-1.84512838e-02],\n",
       "       [ 5.07673191e-02],\n",
       "       [ 6.84978944e-02],\n",
       "       [-9.31494513e-02],\n",
       "       [-1.38487462e-01],\n",
       "       [-7.03583534e-02],\n",
       "       [ 3.08993274e-02],\n",
       "       [ 1.28948231e-01],\n",
       "       [-1.14099501e-02],\n",
       "       [-6.34857768e-02],\n",
       "       [ 2.25394012e-02],\n",
       "       [-7.25691535e-02],\n",
       "       [-1.05240871e-01],\n",
       "       [ 5.95149955e-02],\n",
       "       [-8.29665588e-02],\n",
       "       [-2.89487093e-02],\n",
       "       [ 2.53403520e-02],\n",
       "       [-1.78431336e-02],\n",
       "       [-6.45724809e-02],\n",
       "       [-2.09914958e-02],\n",
       "       [ 7.89264876e-02],\n",
       "       [ 8.42737822e-02],\n",
       "       [ 3.76446508e-02],\n",
       "       [-2.66918178e-03],\n",
       "       [ 1.81422646e-02],\n",
       "       [ 7.70795871e-02],\n",
       "       [ 5.67180052e-02],\n",
       "       [-9.02954896e-02]])"
      ]
     },
     "execution_count": 26,
     "metadata": {},
     "output_type": "execute_result"
    }
   ],
   "source": [
    "y"
   ]
  },
  {
   "cell_type": "code",
   "execution_count": 23,
   "metadata": {},
   "outputs": [],
   "source": [
    "# For GWR/MGWR:\n",
    "coords = list(zip(data_trial_wo_jan.long, data_trial_wo_jan.lat))"
   ]
  },
  {
   "cell_type": "markdown",
   "metadata": {},
   "source": [
    "# Normalizing / Standardizing the Data:"
   ]
  },
  {
   "cell_type": "markdown",
   "metadata": {},
   "source": [
    "## Normalizing:"
   ]
  },
  {
   "cell_type": "code",
   "execution_count": 383,
   "metadata": {},
   "outputs": [],
   "source": [
    "scaler = MinMaxScaler()"
   ]
  },
  {
   "cell_type": "code",
   "execution_count": 420,
   "metadata": {},
   "outputs": [],
   "source": [
    "n_X = scaler.fit_transform(X)"
   ]
  },
  {
   "cell_type": "code",
   "execution_count": 421,
   "metadata": {},
   "outputs": [],
   "source": [
    "n_y = scaler.fit_transform(y)"
   ]
  },
  {
   "cell_type": "markdown",
   "metadata": {},
   "source": [
    "## Standardizing:"
   ]
  },
  {
   "cell_type": "code",
   "execution_count": 24,
   "metadata": {},
   "outputs": [],
   "source": [
    "s_X = (X - X.mean(axis = 0)) / X.std(axis = 0)"
   ]
  },
  {
   "cell_type": "code",
   "execution_count": 25,
   "metadata": {},
   "outputs": [],
   "source": [
    "s_y =  (y - y.mean(axis = 0)) / y.std(axis = 0)"
   ]
  },
  {
   "cell_type": "markdown",
   "metadata": {},
   "source": [
    "# Ordinary Least Squares:"
   ]
  },
  {
   "cell_type": "code",
   "execution_count": 649,
   "metadata": {},
   "outputs": [],
   "source": [
    "model = sm.OLS(s_y, s_X).fit()"
   ]
  },
  {
   "cell_type": "code",
   "execution_count": 650,
   "metadata": {},
   "outputs": [],
   "source": [
    "predictions = model.predict(s_X)"
   ]
  },
  {
   "cell_type": "code",
   "execution_count": 651,
   "metadata": {},
   "outputs": [
    {
     "data": {
      "text/html": [
       "<table class=\"simpletable\">\n",
       "<caption>OLS Regression Results</caption>\n",
       "<tr>\n",
       "  <th>Dep. Variable:</th>            <td>y</td>        <th>  R-squared (uncentered):</th>      <td>   0.709</td> \n",
       "</tr>\n",
       "<tr>\n",
       "  <th>Model:</th>                   <td>OLS</td>       <th>  Adj. R-squared (uncentered):</th> <td>   0.706</td> \n",
       "</tr>\n",
       "<tr>\n",
       "  <th>Method:</th>             <td>Least Squares</td>  <th>  F-statistic:       </th>          <td>   238.2</td> \n",
       "</tr>\n",
       "<tr>\n",
       "  <th>Date:</th>             <td>Wed, 30 Dec 2020</td> <th>  Prob (F-statistic):</th>          <td>3.65e-254</td>\n",
       "</tr>\n",
       "<tr>\n",
       "  <th>Time:</th>                 <td>16:42:19</td>     <th>  Log-Likelihood:    </th>          <td> -793.36</td> \n",
       "</tr>\n",
       "<tr>\n",
       "  <th>No. Observations:</th>      <td>   989</td>      <th>  AIC:               </th>          <td>   1607.</td> \n",
       "</tr>\n",
       "<tr>\n",
       "  <th>Df Residuals:</th>          <td>   979</td>      <th>  BIC:               </th>          <td>   1656.</td> \n",
       "</tr>\n",
       "<tr>\n",
       "  <th>Df Model:</th>              <td>    10</td>      <th>                     </th>              <td> </td>    \n",
       "</tr>\n",
       "<tr>\n",
       "  <th>Covariance Type:</th>      <td>nonrobust</td>    <th>                     </th>              <td> </td>    \n",
       "</tr>\n",
       "</table>\n",
       "<table class=\"simpletable\">\n",
       "<tr>\n",
       "   <td></td>      <th>coef</th>     <th>std err</th>      <th>t</th>      <th>P>|t|</th>  <th>[0.025</th>    <th>0.975]</th>  \n",
       "</tr>\n",
       "<tr>\n",
       "  <th>x1</th>  <td>   -0.1646</td> <td>    0.054</td> <td>   -3.023</td> <td> 0.003</td> <td>   -0.271</td> <td>   -0.058</td>\n",
       "</tr>\n",
       "<tr>\n",
       "  <th>x2</th>  <td>   -0.0152</td> <td>    0.018</td> <td>   -0.825</td> <td> 0.409</td> <td>   -0.051</td> <td>    0.021</td>\n",
       "</tr>\n",
       "<tr>\n",
       "  <th>x3</th>  <td>    0.0408</td> <td>    0.026</td> <td>    1.565</td> <td> 0.118</td> <td>   -0.010</td> <td>    0.092</td>\n",
       "</tr>\n",
       "<tr>\n",
       "  <th>x4</th>  <td>   -4.3208</td> <td>    0.116</td> <td>  -37.351</td> <td> 0.000</td> <td>   -4.548</td> <td>   -4.094</td>\n",
       "</tr>\n",
       "<tr>\n",
       "  <th>x5</th>  <td>    0.0312</td> <td>    0.031</td> <td>    0.994</td> <td> 0.320</td> <td>   -0.030</td> <td>    0.093</td>\n",
       "</tr>\n",
       "<tr>\n",
       "  <th>x6</th>  <td>   -0.0210</td> <td>    0.027</td> <td>   -0.767</td> <td> 0.443</td> <td>   -0.075</td> <td>    0.033</td>\n",
       "</tr>\n",
       "<tr>\n",
       "  <th>x7</th>  <td>   -0.0042</td> <td>    0.055</td> <td>   -0.078</td> <td> 0.938</td> <td>   -0.111</td> <td>    0.103</td>\n",
       "</tr>\n",
       "<tr>\n",
       "  <th>x8</th>  <td>    0.0380</td> <td>    0.026</td> <td>    1.441</td> <td> 0.150</td> <td>   -0.014</td> <td>    0.090</td>\n",
       "</tr>\n",
       "<tr>\n",
       "  <th>x9</th>  <td>    0.0943</td> <td>    0.059</td> <td>    1.598</td> <td> 0.110</td> <td>   -0.021</td> <td>    0.210</td>\n",
       "</tr>\n",
       "<tr>\n",
       "  <th>x10</th> <td>    4.5129</td> <td>    0.103</td> <td>   43.933</td> <td> 0.000</td> <td>    4.311</td> <td>    4.715</td>\n",
       "</tr>\n",
       "</table>\n",
       "<table class=\"simpletable\">\n",
       "<tr>\n",
       "  <th>Omnibus:</th>       <td>119.271</td> <th>  Durbin-Watson:     </th> <td>   1.928</td> \n",
       "</tr>\n",
       "<tr>\n",
       "  <th>Prob(Omnibus):</th> <td> 0.000</td>  <th>  Jarque-Bera (JB):  </th> <td>1066.258</td> \n",
       "</tr>\n",
       "<tr>\n",
       "  <th>Skew:</th>          <td>-0.096</td>  <th>  Prob(JB):          </th> <td>2.92e-232</td>\n",
       "</tr>\n",
       "<tr>\n",
       "  <th>Kurtosis:</th>      <td> 8.083</td>  <th>  Cond. No.          </th> <td>    16.7</td> \n",
       "</tr>\n",
       "</table><br/><br/>Notes:<br/>[1] R² is computed without centering (uncentered) since the model does not contain a constant.<br/>[2] Standard Errors assume that the covariance matrix of the errors is correctly specified."
      ],
      "text/plain": [
       "<class 'statsmodels.iolib.summary.Summary'>\n",
       "\"\"\"\n",
       "                                 OLS Regression Results                                \n",
       "=======================================================================================\n",
       "Dep. Variable:                      y   R-squared (uncentered):                   0.709\n",
       "Model:                            OLS   Adj. R-squared (uncentered):              0.706\n",
       "Method:                 Least Squares   F-statistic:                              238.2\n",
       "Date:                Wed, 30 Dec 2020   Prob (F-statistic):                   3.65e-254\n",
       "Time:                        16:42:19   Log-Likelihood:                         -793.36\n",
       "No. Observations:                 989   AIC:                                      1607.\n",
       "Df Residuals:                     979   BIC:                                      1656.\n",
       "Df Model:                          10                                                  \n",
       "Covariance Type:            nonrobust                                                  \n",
       "==============================================================================\n",
       "                 coef    std err          t      P>|t|      [0.025      0.975]\n",
       "------------------------------------------------------------------------------\n",
       "x1            -0.1646      0.054     -3.023      0.003      -0.271      -0.058\n",
       "x2            -0.0152      0.018     -0.825      0.409      -0.051       0.021\n",
       "x3             0.0408      0.026      1.565      0.118      -0.010       0.092\n",
       "x4            -4.3208      0.116    -37.351      0.000      -4.548      -4.094\n",
       "x5             0.0312      0.031      0.994      0.320      -0.030       0.093\n",
       "x6            -0.0210      0.027     -0.767      0.443      -0.075       0.033\n",
       "x7            -0.0042      0.055     -0.078      0.938      -0.111       0.103\n",
       "x8             0.0380      0.026      1.441      0.150      -0.014       0.090\n",
       "x9             0.0943      0.059      1.598      0.110      -0.021       0.210\n",
       "x10            4.5129      0.103     43.933      0.000       4.311       4.715\n",
       "==============================================================================\n",
       "Omnibus:                      119.271   Durbin-Watson:                   1.928\n",
       "Prob(Omnibus):                  0.000   Jarque-Bera (JB):             1066.258\n",
       "Skew:                          -0.096   Prob(JB):                    2.92e-232\n",
       "Kurtosis:                       8.083   Cond. No.                         16.7\n",
       "==============================================================================\n",
       "\n",
       "Notes:\n",
       "[1] R² is computed without centering (uncentered) since the model does not contain a constant.\n",
       "[2] Standard Errors assume that the covariance matrix of the errors is correctly specified.\n",
       "\"\"\""
      ]
     },
     "execution_count": 651,
     "metadata": {},
     "output_type": "execute_result"
    }
   ],
   "source": [
    "model.summary()"
   ]
  },
  {
   "cell_type": "code",
   "execution_count": 652,
   "metadata": {},
   "outputs": [
    {
     "data": {
      "image/png": "[encoded data removed]",
      "text/plain": [
       "<Figure size 432x288 with 1 Axes>"
      ]
     },
     "metadata": {},
     "output_type": "display_data"
    }
   ],
   "source": [
    "fig, ax = plt.subplots()\n",
    "ax.plot(y, predictions, 'o', label=\"Data\")\n",
    "\n",
    "plt.show()"
   ]
  },
  {
   "cell_type": "markdown",
   "metadata": {},
   "source": [
    "# Multiple Linear Regression:"
   ]
  },
  {
   "cell_type": "code",
   "execution_count": 27,
   "metadata": {},
   "outputs": [],
   "source": [
    "X_train, X_test, y_train, y_test = train_test_split(s_X, s_y, test_size = 0.3, random_state=9)"
   ]
  },
  {
   "cell_type": "code",
   "execution_count": 28,
   "metadata": {},
   "outputs": [],
   "source": [
    "lin_reg_mod = linear_model.LinearRegression()"
   ]
  },
  {
   "cell_type": "code",
   "execution_count": 29,
   "metadata": {},
   "outputs": [
    {
     "data": {
      "text/plain": [
       "LinearRegression()"
      ]
     },
     "execution_count": 29,
     "metadata": {},
     "output_type": "execute_result"
    }
   ],
   "source": [
    "lin_reg_mod.fit(X_train, y_train)"
   ]
  },
  {
   "cell_type": "code",
   "execution_count": 30,
   "metadata": {},
   "outputs": [],
   "source": [
    "pred = lin_reg_mod.predict(X_test)"
   ]
  },
  {
   "cell_type": "code",
   "execution_count": 31,
   "metadata": {},
   "outputs": [],
   "source": [
    "test_set_rmse = (np.sqrt(mean_squared_error(y_test, pred)))\n",
    "\n",
    "test_set_r2 = r2_score(y_test, pred)"
   ]
  },
  {
   "cell_type": "code",
   "execution_count": 32,
   "metadata": {},
   "outputs": [
    {
     "name": "stdout",
     "output_type": "stream",
     "text": [
      "0.5585756440112504\n",
      "0.6435526352235701\n"
     ]
    }
   ],
   "source": [
    "print(test_set_rmse)\n",
    "print(test_set_r2)"
   ]
  },
  {
   "cell_type": "code",
   "execution_count": 744,
   "metadata": {},
   "outputs": [],
   "source": [
    "mlr_df = pd.DataFrame({'pred_y': pred[:, 0], 'y_true': y_test[:,0]})"
   ]
  },
  {
   "cell_type": "code",
   "execution_count": 1064,
   "metadata": {},
   "outputs": [
    {
     "data": {
      "image/png": "[encoded data removed]",
      "text/plain": [
       "<Figure size 800x800 with 1 Axes>"
      ]
     },
     "metadata": {},
     "output_type": "display_data"
    }
   ],
   "source": [
    "fig, ax = plt.subplots(figsize = (8,8), dpi=100)\n",
    "x = mlr_df.y_true\n",
    "y = mlr_df.pred_y\n",
    "\n",
    "plt.scatter(x, y, alpha = 0.8, color='slateblue', edgecolor='black', s=60)\n",
    "\n",
    "plt.plot(np.unique(x), np.poly1d(np.polyfit(x, y, 1))(np.unique(x)), color='black')\n",
    "plt.xlabel('Observed Average House Price Appreciation Rate')\n",
    "plt.ylabel('Predicted Average House Price Appreciation Rate')\n",
    "plt.grid('off')\n",
    "plt.title('Multiple Linear Regression', fontweight='bold')\n",
    "\n",
    "plt.text(0.1, 3, \"R²:        0.64\", color='slateblue', fontsize = (14))\n",
    "plt.show()"
   ]
  },
  {
   "cell_type": "code",
   "execution_count": 922,
   "metadata": {},
   "outputs": [
    {
     "data": {
      "text/html": [
       "<div>\n",
       "<style scoped>\n",
       "    .dataframe tbody tr th:only-of-type {\n",
       "        vertical-align: middle;\n",
       "    }\n",
       "\n",
       "    .dataframe tbody tr th {\n",
       "        vertical-align: top;\n",
       "    }\n",
       "\n",
       "    .dataframe thead th {\n",
       "        text-align: right;\n",
       "    }\n",
       "</style>\n",
       "<table border=\"1\" class=\"dataframe\">\n",
       "  <thead>\n",
       "    <tr style=\"text-align: right;\">\n",
       "      <th></th>\n",
       "      <th>pred_y</th>\n",
       "      <th>y_true</th>\n",
       "      <th>resid</th>\n",
       "    </tr>\n",
       "  </thead>\n",
       "  <tbody>\n",
       "    <tr>\n",
       "      <th>0</th>\n",
       "      <td>1.704520</td>\n",
       "      <td>1.535921</td>\n",
       "      <td>-0.168599</td>\n",
       "    </tr>\n",
       "    <tr>\n",
       "      <th>1</th>\n",
       "      <td>-1.035287</td>\n",
       "      <td>-0.890010</td>\n",
       "      <td>0.145277</td>\n",
       "    </tr>\n",
       "    <tr>\n",
       "      <th>2</th>\n",
       "      <td>0.465285</td>\n",
       "      <td>0.041969</td>\n",
       "      <td>-0.423316</td>\n",
       "    </tr>\n",
       "    <tr>\n",
       "      <th>3</th>\n",
       "      <td>-0.138527</td>\n",
       "      <td>-0.304656</td>\n",
       "      <td>-0.166129</td>\n",
       "    </tr>\n",
       "    <tr>\n",
       "      <th>4</th>\n",
       "      <td>-0.804834</td>\n",
       "      <td>-3.147248</td>\n",
       "      <td>-2.342415</td>\n",
       "    </tr>\n",
       "  </tbody>\n",
       "</table>\n",
       "</div>"
      ],
      "text/plain": [
       "     pred_y    y_true     resid\n",
       "0  1.704520  1.535921 -0.168599\n",
       "1 -1.035287 -0.890010  0.145277\n",
       "2  0.465285  0.041969 -0.423316\n",
       "3 -0.138527 -0.304656 -0.166129\n",
       "4 -0.804834 -3.147248 -2.342415"
      ]
     },
     "execution_count": 922,
     "metadata": {},
     "output_type": "execute_result"
    }
   ],
   "source": [
    "mlr_df.head()"
   ]
  },
  {
   "cell_type": "code",
   "execution_count": 921,
   "metadata": {},
   "outputs": [],
   "source": [
    "mlr_df['resid'] = mlr_df['y_true'] - mlr_df['pred_y']"
   ]
  },
  {
   "cell_type": "code",
   "execution_count": 929,
   "metadata": {},
   "outputs": [
    {
     "data": {
      "image/png": "[encoded data removed]",
      "text/plain": [
       "<Figure size 800x800 with 1 Axes>"
      ]
     },
     "metadata": {},
     "output_type": "display_data"
    }
   ],
   "source": [
    "fig, ax = plt.subplots(figsize = (8,8), dpi=100)\n",
    "x = mlr_df.pred_y\n",
    "y = mlr_df.resid\n",
    "\n",
    "plt.scatter(x, y, alpha = 0.5, color='orange', edgecolor='black', s=60)\n",
    "\n",
    "plt.hlines(0, -3.5, 3.5, linestyle=\"dotted\", color = 'grey')\n",
    "plt.xlabel('Predicted Average House Price Appreciation Rate')\n",
    "plt.ylabel('Residuals')\n",
    "plt.grid('off')\n",
    "plt.title('MLR - Residual Plot', fontweight='bold')\n",
    "\n",
    "plt.show()"
   ]
  },
  {
   "cell_type": "markdown",
   "metadata": {},
   "source": [
    "# GWR and MGWR:"
   ]
  },
  {
   "cell_type": "markdown",
   "metadata": {},
   "source": [
    "## Bandwidth Selector:"
   ]
  },
  {
   "cell_type": "code",
   "execution_count": 26,
   "metadata": {},
   "outputs": [],
   "source": [
    "gwr_selector = Sel_BW(coords, s_y, s_X)"
   ]
  },
  {
   "cell_type": "code",
   "execution_count": 27,
   "metadata": {
    "scrolled": true
   },
   "outputs": [],
   "source": [
    "gwr_bw = gwr_selector.search()"
   ]
  },
  {
   "cell_type": "code",
   "execution_count": 28,
   "metadata": {},
   "outputs": [
    {
     "data": {
      "text/plain": [
       "635.0"
      ]
     },
     "execution_count": 28,
     "metadata": {},
     "output_type": "execute_result"
    }
   ],
   "source": [
    "gwr_bw"
   ]
  },
  {
   "cell_type": "code",
   "execution_count": 29,
   "metadata": {},
   "outputs": [],
   "source": [
    "gwr_model = GWR(coords, s_y, s_X, gwr_bw)"
   ]
  },
  {
   "cell_type": "code",
   "execution_count": 30,
   "metadata": {
    "scrolled": true
   },
   "outputs": [],
   "source": [
    "gwr_results = gwr_model.fit()"
   ]
  },
  {
   "cell_type": "code",
   "execution_count": 31,
   "metadata": {},
   "outputs": [
    {
     "data": {
      "text/plain": [
       "262.2201708216287"
      ]
     },
     "execution_count": 31,
     "metadata": {},
     "output_type": "execute_result"
    }
   ],
   "source": [
    "gwr_results.resid_ss"
   ]
  },
  {
   "cell_type": "code",
   "execution_count": 32,
   "metadata": {},
   "outputs": [
    {
     "data": {
      "text/plain": [
       "1570.979830386784"
      ]
     },
     "execution_count": 32,
     "metadata": {},
     "output_type": "execute_result"
    }
   ],
   "source": [
    "gwr_results.aic"
   ]
  },
  {
   "cell_type": "code",
   "execution_count": 33,
   "metadata": {
    "scrolled": true
   },
   "outputs": [
    {
     "data": {
      "text/plain": [
       "0.7348633257617506"
      ]
     },
     "execution_count": 33,
     "metadata": {},
     "output_type": "execute_result"
    }
   ],
   "source": [
    "gwr_results.R2"
   ]
  },
  {
   "cell_type": "code",
   "execution_count": 34,
   "metadata": {},
   "outputs": [],
   "source": [
    "def all_corr(results,variables):\n",
    "    \"\"\"\n",
    "    Computes  local correlation coefficients (n, (((p+1)**2) + (p+1) / 2) within a geographically\n",
    "    weighted design matrix\n",
    "    Returns one array with the order and dimensions listed above where n\n",
    "    is the number of locations used as calibrations points and p is the\n",
    "    number of explanatory variables; +1 accounts for the dependent variable.\n",
    "    Local correlation coefficient is not calculated for constant term.\n",
    "    \"\"\"\n",
    "    #print(self.model)\n",
    "    x = results.X\n",
    "    y = results.y\n",
    "    x = np.column_stack((x,y))\n",
    "    w = results.W\n",
    "    nvar = x.shape[1]\n",
    "    nrow = len(w)\n",
    "    if results.model.constant:\n",
    "        ncor = (((nvar - 1)**2 + (nvar - 1)) / 2) - (nvar - 1)\n",
    "        jk = list(combo(range(1, nvar), 2))\n",
    "    else:\n",
    "        ncor = (((nvar)**2 + (nvar)) / 2) - nvar\n",
    "        jk = list(combo(range(nvar), 2))\n",
    "    corr_mat = np.ndarray((nrow, int(ncor)),dtype=dict)\n",
    "    \n",
    "    for i in range(nrow):\n",
    "        wi = w[i]\n",
    "        sw = np.sum(wi)\n",
    "        wi = wi / sw\n",
    "        tag = 0\n",
    "\n",
    "        for j, k in jk:\n",
    "            val = corr(np.cov(x[:, j], x[:, k], aweights=wi))[0][1] \n",
    "            corr_mat[i,tag] = {\"var\": variables[j-1]+\"_\"+variables[k-1], \"var_1\": variables[j-1], \"var_2\": variables[k-1], \"value\": val}\n",
    "            tag = tag + 1\n",
    "            \n",
    "    return corr_mat"
   ]
  },
  {
   "cell_type": "code",
   "execution_count": 35,
   "metadata": {},
   "outputs": [],
   "source": [
    "corr_matrix = all_corr(gwr_results, ['month', 'log_pop', 'log_cases', 'log_price', 'av_prop_flats', \n",
    "                'lockdown', 'stamp_duty', 'priv_os_av_size', 'last_mo_price', 'log_real_price', 'ann_price_change'])\n",
    "#Filter only those correlation coefficients against the Leave vote\n",
    "corr_2 = [{d['var']: d['value'] for d in x if d['var_2'] == 'ann_price_change'} for x in corr_matrix]\n",
    "corr_coeffs = pd.DataFrame.from_records(corr_2)"
   ]
  },
  {
   "cell_type": "code",
   "execution_count": 36,
   "metadata": {},
   "outputs": [
    {
     "data": {
      "text/html": [
       "<div>\n",
       "<style scoped>\n",
       "    .dataframe tbody tr th:only-of-type {\n",
       "        vertical-align: middle;\n",
       "    }\n",
       "\n",
       "    .dataframe tbody tr th {\n",
       "        vertical-align: top;\n",
       "    }\n",
       "\n",
       "    .dataframe thead th {\n",
       "        text-align: right;\n",
       "    }\n",
       "</style>\n",
       "<table border=\"1\" class=\"dataframe\">\n",
       "  <thead>\n",
       "    <tr style=\"text-align: right;\">\n",
       "      <th></th>\n",
       "      <th>month_ann_price_change</th>\n",
       "      <th>log_pop_ann_price_change</th>\n",
       "      <th>log_cases_ann_price_change</th>\n",
       "      <th>log_price_ann_price_change</th>\n",
       "      <th>av_prop_flats_ann_price_change</th>\n",
       "      <th>lockdown_ann_price_change</th>\n",
       "      <th>stamp_duty_ann_price_change</th>\n",
       "      <th>priv_os_av_size_ann_price_change</th>\n",
       "      <th>last_mo_price_ann_price_change</th>\n",
       "      <th>log_real_price_ann_price_change</th>\n",
       "    </tr>\n",
       "  </thead>\n",
       "  <tbody>\n",
       "    <tr>\n",
       "      <th>0</th>\n",
       "      <td>0.039735</td>\n",
       "      <td>0.083537</td>\n",
       "      <td>-0.197735</td>\n",
       "      <td>0.138623</td>\n",
       "      <td>0.095604</td>\n",
       "      <td>-0.218714</td>\n",
       "      <td>0.142179</td>\n",
       "      <td>0.112781</td>\n",
       "      <td>0.153332</td>\n",
       "      <td>0.2978</td>\n",
       "    </tr>\n",
       "    <tr>\n",
       "      <th>1</th>\n",
       "      <td>0.039735</td>\n",
       "      <td>0.083537</td>\n",
       "      <td>-0.197735</td>\n",
       "      <td>0.138623</td>\n",
       "      <td>0.095604</td>\n",
       "      <td>-0.218714</td>\n",
       "      <td>0.142179</td>\n",
       "      <td>0.112781</td>\n",
       "      <td>0.153332</td>\n",
       "      <td>0.2978</td>\n",
       "    </tr>\n",
       "    <tr>\n",
       "      <th>2</th>\n",
       "      <td>0.039735</td>\n",
       "      <td>0.083537</td>\n",
       "      <td>-0.197735</td>\n",
       "      <td>0.138623</td>\n",
       "      <td>0.095604</td>\n",
       "      <td>-0.218714</td>\n",
       "      <td>0.142179</td>\n",
       "      <td>0.112781</td>\n",
       "      <td>0.153332</td>\n",
       "      <td>0.2978</td>\n",
       "    </tr>\n",
       "    <tr>\n",
       "      <th>3</th>\n",
       "      <td>0.039735</td>\n",
       "      <td>0.083537</td>\n",
       "      <td>-0.197735</td>\n",
       "      <td>0.138623</td>\n",
       "      <td>0.095604</td>\n",
       "      <td>-0.218714</td>\n",
       "      <td>0.142179</td>\n",
       "      <td>0.112781</td>\n",
       "      <td>0.153332</td>\n",
       "      <td>0.2978</td>\n",
       "    </tr>\n",
       "    <tr>\n",
       "      <th>4</th>\n",
       "      <td>0.039735</td>\n",
       "      <td>0.083537</td>\n",
       "      <td>-0.197735</td>\n",
       "      <td>0.138623</td>\n",
       "      <td>0.095604</td>\n",
       "      <td>-0.218714</td>\n",
       "      <td>0.142179</td>\n",
       "      <td>0.112781</td>\n",
       "      <td>0.153332</td>\n",
       "      <td>0.2978</td>\n",
       "    </tr>\n",
       "  </tbody>\n",
       "</table>\n",
       "</div>"
      ],
      "text/plain": [
       "   month_ann_price_change  log_pop_ann_price_change  \\\n",
       "0                0.039735                  0.083537   \n",
       "1                0.039735                  0.083537   \n",
       "2                0.039735                  0.083537   \n",
       "3                0.039735                  0.083537   \n",
       "4                0.039735                  0.083537   \n",
       "\n",
       "   log_cases_ann_price_change  log_price_ann_price_change  \\\n",
       "0                   -0.197735                    0.138623   \n",
       "1                   -0.197735                    0.138623   \n",
       "2                   -0.197735                    0.138623   \n",
       "3                   -0.197735                    0.138623   \n",
       "4                   -0.197735                    0.138623   \n",
       "\n",
       "   av_prop_flats_ann_price_change  lockdown_ann_price_change  \\\n",
       "0                        0.095604                  -0.218714   \n",
       "1                        0.095604                  -0.218714   \n",
       "2                        0.095604                  -0.218714   \n",
       "3                        0.095604                  -0.218714   \n",
       "4                        0.095604                  -0.218714   \n",
       "\n",
       "   stamp_duty_ann_price_change  priv_os_av_size_ann_price_change  \\\n",
       "0                     0.142179                          0.112781   \n",
       "1                     0.142179                          0.112781   \n",
       "2                     0.142179                          0.112781   \n",
       "3                     0.142179                          0.112781   \n",
       "4                     0.142179                          0.112781   \n",
       "\n",
       "   last_mo_price_ann_price_change  log_real_price_ann_price_change  \n",
       "0                        0.153332                           0.2978  \n",
       "1                        0.153332                           0.2978  \n",
       "2                        0.153332                           0.2978  \n",
       "3                        0.153332                           0.2978  \n",
       "4                        0.153332                           0.2978  "
      ]
     },
     "execution_count": 36,
     "metadata": {},
     "output_type": "execute_result"
    }
   ],
   "source": [
    "corr_coeffs.head()"
   ]
  },
  {
   "cell_type": "code",
   "execution_count": 56,
   "metadata": {},
   "outputs": [
    {
     "data": {
      "text/plain": [
       "989"
      ]
     },
     "execution_count": 56,
     "metadata": {},
     "output_type": "execute_result"
    }
   ],
   "source": [
    "len(data_trial_wo_jan)"
   ]
  },
  {
   "cell_type": "code",
   "execution_count": 69,
   "metadata": {},
   "outputs": [],
   "source": [
    "data_trial_wo_jan.to_csv('Data/data_trial_corr.csv')"
   ]
  },
  {
   "cell_type": "code",
   "execution_count": 57,
   "metadata": {},
   "outputs": [
    {
     "data": {
      "text/plain": [
       "989"
      ]
     },
     "execution_count": 57,
     "metadata": {},
     "output_type": "execute_result"
    }
   ],
   "source": [
    "len(corr_coeffs)"
   ]
  },
  {
   "cell_type": "code",
   "execution_count": 68,
   "metadata": {},
   "outputs": [],
   "source": [
    "corr_coeffs.to_csv('Data/corr_coeffs.csv')"
   ]
  },
  {
   "cell_type": "code",
   "execution_count": 42,
   "metadata": {},
   "outputs": [],
   "source": [
    "corr_df.to_csv('Data/corr_df.csv')"
   ]
  },
  {
   "cell_type": "code",
   "execution_count": 46,
   "metadata": {},
   "outputs": [
    {
     "name": "stderr",
     "output_type": "stream",
     "text": [
      "C:\\Users\\rozhouse\\Anaconda3\\lib\\site-packages\\ipykernel_launcher.py:1: FutureWarning: Indexing with multiple keys (implicitly converted to a tuple of keys) will be deprecated, use a list instead.\n",
      "  \"\"\"Entry point for launching an IPython kernel.\n"
     ]
    }
   ],
   "source": [
    "corr_df_grouped = corr_df.groupby('county')['month_ann_price_change', 'log_pop_ann_price_change', 'log_cases_ann_price_change', \n",
    "                          'log_price_ann_price_change', 'av_prop_flats_ann_price_change', 'lockdown_ann_price_change',\n",
    "                          'stamp_duty_ann_price_change', 'priv_os_av_size_ann_price_change', \n",
    "                          'last_mo_price_ann_price_change', 'log_real_price_ann_price_change'].mean().reset_index()"
   ]
  },
  {
   "cell_type": "code",
   "execution_count": 47,
   "metadata": {},
   "outputs": [
    {
     "data": {
      "text/plain": [
       "56"
      ]
     },
     "execution_count": 47,
     "metadata": {},
     "output_type": "execute_result"
    }
   ],
   "source": [
    "len(corr_df_grouped)"
   ]
  },
  {
   "cell_type": "code",
   "execution_count": 50,
   "metadata": {},
   "outputs": [
    {
     "data": {
      "text/html": [
       "<div>\n",
       "<style scoped>\n",
       "    .dataframe tbody tr th:only-of-type {\n",
       "        vertical-align: middle;\n",
       "    }\n",
       "\n",
       "    .dataframe tbody tr th {\n",
       "        vertical-align: top;\n",
       "    }\n",
       "\n",
       "    .dataframe thead th {\n",
       "        text-align: right;\n",
       "    }\n",
       "</style>\n",
       "<table border=\"1\" class=\"dataframe\">\n",
       "  <thead>\n",
       "    <tr style=\"text-align: right;\">\n",
       "      <th></th>\n",
       "      <th>county</th>\n",
       "      <th>month_ann_price_change</th>\n",
       "      <th>log_pop_ann_price_change</th>\n",
       "      <th>log_cases_ann_price_change</th>\n",
       "      <th>log_price_ann_price_change</th>\n",
       "      <th>av_prop_flats_ann_price_change</th>\n",
       "      <th>lockdown_ann_price_change</th>\n",
       "      <th>stamp_duty_ann_price_change</th>\n",
       "      <th>priv_os_av_size_ann_price_change</th>\n",
       "      <th>last_mo_price_ann_price_change</th>\n",
       "      <th>log_real_price_ann_price_change</th>\n",
       "    </tr>\n",
       "  </thead>\n",
       "  <tbody>\n",
       "    <tr>\n",
       "      <th>51</th>\n",
       "      <td>Medway</td>\n",
       "      <td>0.184103</td>\n",
       "      <td>0.081340</td>\n",
       "      <td>-0.023354</td>\n",
       "      <td>0.164369</td>\n",
       "      <td>0.137195</td>\n",
       "      <td>-0.178804</td>\n",
       "      <td>0.256073</td>\n",
       "      <td>0.074282</td>\n",
       "      <td>0.216702</td>\n",
       "      <td>0.335107</td>\n",
       "    </tr>\n",
       "    <tr>\n",
       "      <th>52</th>\n",
       "      <td>Merseyside</td>\n",
       "      <td>0.088330</td>\n",
       "      <td>0.060004</td>\n",
       "      <td>-0.179322</td>\n",
       "      <td>0.187802</td>\n",
       "      <td>0.177299</td>\n",
       "      <td>-0.275820</td>\n",
       "      <td>0.207931</td>\n",
       "      <td>0.150516</td>\n",
       "      <td>0.206330</td>\n",
       "      <td>0.363874</td>\n",
       "    </tr>\n",
       "    <tr>\n",
       "      <th>53</th>\n",
       "      <td>Nottingham</td>\n",
       "      <td>0.006532</td>\n",
       "      <td>0.054272</td>\n",
       "      <td>-0.232535</td>\n",
       "      <td>0.161340</td>\n",
       "      <td>0.105957</td>\n",
       "      <td>-0.268551</td>\n",
       "      <td>0.106060</td>\n",
       "      <td>0.129675</td>\n",
       "      <td>0.162571</td>\n",
       "      <td>0.351561</td>\n",
       "    </tr>\n",
       "    <tr>\n",
       "      <th>54</th>\n",
       "      <td>Peterborough</td>\n",
       "      <td>0.012696</td>\n",
       "      <td>0.036232</td>\n",
       "      <td>-0.229398</td>\n",
       "      <td>0.163525</td>\n",
       "      <td>0.108577</td>\n",
       "      <td>-0.278555</td>\n",
       "      <td>0.113669</td>\n",
       "      <td>0.137846</td>\n",
       "      <td>0.166016</td>\n",
       "      <td>0.359608</td>\n",
       "    </tr>\n",
       "    <tr>\n",
       "      <th>55</th>\n",
       "      <td>Plymouth</td>\n",
       "      <td>0.010352</td>\n",
       "      <td>0.107966</td>\n",
       "      <td>-0.190165</td>\n",
       "      <td>0.243116</td>\n",
       "      <td>0.213090</td>\n",
       "      <td>-0.236624</td>\n",
       "      <td>0.109271</td>\n",
       "      <td>0.169933</td>\n",
       "      <td>0.249499</td>\n",
       "      <td>0.428933</td>\n",
       "    </tr>\n",
       "  </tbody>\n",
       "</table>\n",
       "</div>"
      ],
      "text/plain": [
       "          county  month_ann_price_change  log_pop_ann_price_change  \\\n",
       "51        Medway                0.184103                  0.081340   \n",
       "52    Merseyside                0.088330                  0.060004   \n",
       "53    Nottingham                0.006532                  0.054272   \n",
       "54  Peterborough                0.012696                  0.036232   \n",
       "55      Plymouth                0.010352                  0.107966   \n",
       "\n",
       "    log_cases_ann_price_change  log_price_ann_price_change  \\\n",
       "51                   -0.023354                    0.164369   \n",
       "52                   -0.179322                    0.187802   \n",
       "53                   -0.232535                    0.161340   \n",
       "54                   -0.229398                    0.163525   \n",
       "55                   -0.190165                    0.243116   \n",
       "\n",
       "    av_prop_flats_ann_price_change  lockdown_ann_price_change  \\\n",
       "51                        0.137195                  -0.178804   \n",
       "52                        0.177299                  -0.275820   \n",
       "53                        0.105957                  -0.268551   \n",
       "54                        0.108577                  -0.278555   \n",
       "55                        0.213090                  -0.236624   \n",
       "\n",
       "    stamp_duty_ann_price_change  priv_os_av_size_ann_price_change  \\\n",
       "51                     0.256073                          0.074282   \n",
       "52                     0.207931                          0.150516   \n",
       "53                     0.106060                          0.129675   \n",
       "54                     0.113669                          0.137846   \n",
       "55                     0.109271                          0.169933   \n",
       "\n",
       "    last_mo_price_ann_price_change  log_real_price_ann_price_change  \n",
       "51                        0.216702                         0.335107  \n",
       "52                        0.206330                         0.363874  \n",
       "53                        0.162571                         0.351561  \n",
       "54                        0.166016                         0.359608  \n",
       "55                        0.249499                         0.428933  "
      ]
     },
     "execution_count": 50,
     "metadata": {},
     "output_type": "execute_result"
    }
   ],
   "source": [
    "corr_df_grouped.tail()"
   ]
  },
  {
   "cell_type": "code",
   "execution_count": 49,
   "metadata": {},
   "outputs": [],
   "source": [
    "corr_df_grouped.to_csv('Data/corr_df.csv')"
   ]
  },
  {
   "cell_type": "code",
   "execution_count": 59,
   "metadata": {},
   "outputs": [],
   "source": [
    "corr_df_grouped_merged = pd.merge(corr_df_grouped, uk_shape,  how='left', on=['county'])"
   ]
  },
  {
   "cell_type": "code",
   "execution_count": 64,
   "metadata": {},
   "outputs": [
    {
     "data": {
      "text/plain": [
       "99"
      ]
     },
     "execution_count": 64,
     "metadata": {},
     "output_type": "execute_result"
    }
   ],
   "source": [
    "len(corr_df_grouped_merged)"
   ]
  },
  {
   "cell_type": "code",
   "execution_count": 60,
   "metadata": {},
   "outputs": [],
   "source": [
    "geo_corr = GeoDataFrame(corr_df_grouped_merged)"
   ]
  },
  {
   "cell_type": "code",
   "execution_count": 65,
   "metadata": {},
   "outputs": [
    {
     "data": {
      "text/plain": [
       "99"
      ]
     },
     "execution_count": 65,
     "metadata": {},
     "output_type": "execute_result"
    }
   ],
   "source": [
    "len(geo_corr)"
   ]
  },
  {
   "cell_type": "code",
   "execution_count": 1033,
   "metadata": {},
   "outputs": [
    {
     "name": "stderr",
     "output_type": "stream",
     "text": [
      "C:\\Users\\rozhouse\\Anaconda3\\lib\\site-packages\\ipykernel_launcher.py:1: SettingWithCopyWarning: \n",
      "A value is trying to be set on a copy of a slice from a DataFrame.\n",
      "Try using .loc[row_indexer,col_indexer] = value instead\n",
      "\n",
      "See the caveats in the documentation: https://pandas.pydata.org/pandas-docs/stable/user_guide/indexing.html#returning-a-view-versus-a-copy\n",
      "  \"\"\"Entry point for launching an IPython kernel.\n"
     ]
    }
   ],
   "source": [
    "data_trial_wo_jan['r2'] = gwr_results.localR2"
   ]
  },
  {
   "cell_type": "code",
   "execution_count": 1034,
   "metadata": {},
   "outputs": [
    {
     "data": {
      "text/html": [
       "<div>\n",
       "<style scoped>\n",
       "    .dataframe tbody tr th:only-of-type {\n",
       "        vertical-align: middle;\n",
       "    }\n",
       "\n",
       "    .dataframe tbody tr th {\n",
       "        vertical-align: top;\n",
       "    }\n",
       "\n",
       "    .dataframe thead th {\n",
       "        text-align: right;\n",
       "    }\n",
       "</style>\n",
       "<table border=\"1\" class=\"dataframe\">\n",
       "  <thead>\n",
       "    <tr style=\"text-align: right;\">\n",
       "      <th></th>\n",
       "      <th>county</th>\n",
       "      <th>yr_month_x</th>\n",
       "      <th>real_price</th>\n",
       "      <th>year</th>\n",
       "      <th>month</th>\n",
       "      <th>population</th>\n",
       "      <th>cases_per_100k</th>\n",
       "      <th>3yr_av_price</th>\n",
       "      <th>av_prop_flats</th>\n",
       "      <th>lockdown</th>\n",
       "      <th>...</th>\n",
       "      <th>ann_price_change</th>\n",
       "      <th>long</th>\n",
       "      <th>lat</th>\n",
       "      <th>log_price</th>\n",
       "      <th>log_pop</th>\n",
       "      <th>log_cases</th>\n",
       "      <th>log_av_size</th>\n",
       "      <th>log_real_price</th>\n",
       "      <th>last_mo_price</th>\n",
       "      <th>r2</th>\n",
       "    </tr>\n",
       "  </thead>\n",
       "  <tbody>\n",
       "    <tr>\n",
       "      <th>1</th>\n",
       "      <td>Bath And North East Somerset</td>\n",
       "      <td>2020-02-01</td>\n",
       "      <td>368081.624487</td>\n",
       "      <td>2020</td>\n",
       "      <td>2</td>\n",
       "      <td>193282</td>\n",
       "      <td>0.000000</td>\n",
       "      <td>419871.188521</td>\n",
       "      <td>0.224206</td>\n",
       "      <td>0</td>\n",
       "      <td>...</td>\n",
       "      <td>-0.135711</td>\n",
       "      <td>-2.48654</td>\n",
       "      <td>51.356041</td>\n",
       "      <td>12.947703</td>\n",
       "      <td>12.171906</td>\n",
       "      <td>0.000000</td>\n",
       "      <td>5.965634</td>\n",
       "      <td>12.816060</td>\n",
       "      <td>408087.080371</td>\n",
       "      <td>0.68131</td>\n",
       "    </tr>\n",
       "    <tr>\n",
       "      <th>2</th>\n",
       "      <td>Bath And North East Somerset</td>\n",
       "      <td>2020-03-01</td>\n",
       "      <td>392199.964022</td>\n",
       "      <td>2020</td>\n",
       "      <td>3</td>\n",
       "      <td>193282</td>\n",
       "      <td>27.421074</td>\n",
       "      <td>419871.188521</td>\n",
       "      <td>0.224206</td>\n",
       "      <td>0</td>\n",
       "      <td>...</td>\n",
       "      <td>-0.070570</td>\n",
       "      <td>-2.48654</td>\n",
       "      <td>51.356041</td>\n",
       "      <td>12.947703</td>\n",
       "      <td>12.171906</td>\n",
       "      <td>3.347131</td>\n",
       "      <td>5.965634</td>\n",
       "      <td>12.879527</td>\n",
       "      <td>368081.624487</td>\n",
       "      <td>0.68131</td>\n",
       "    </tr>\n",
       "    <tr>\n",
       "      <th>3</th>\n",
       "      <td>Bath And North East Somerset</td>\n",
       "      <td>2020-04-01</td>\n",
       "      <td>469495.468044</td>\n",
       "      <td>2020</td>\n",
       "      <td>4</td>\n",
       "      <td>193282</td>\n",
       "      <td>103.993129</td>\n",
       "      <td>419871.188521</td>\n",
       "      <td>0.224206</td>\n",
       "      <td>1</td>\n",
       "      <td>...</td>\n",
       "      <td>0.122327</td>\n",
       "      <td>-2.48654</td>\n",
       "      <td>51.356041</td>\n",
       "      <td>12.947703</td>\n",
       "      <td>12.171906</td>\n",
       "      <td>4.653895</td>\n",
       "      <td>5.965634</td>\n",
       "      <td>13.059414</td>\n",
       "      <td>392199.964022</td>\n",
       "      <td>0.68131</td>\n",
       "    </tr>\n",
       "    <tr>\n",
       "      <th>4</th>\n",
       "      <td>Bath And North East Somerset</td>\n",
       "      <td>2020-05-01</td>\n",
       "      <td>373742.045354</td>\n",
       "      <td>2020</td>\n",
       "      <td>5</td>\n",
       "      <td>193282</td>\n",
       "      <td>39.838164</td>\n",
       "      <td>419871.188521</td>\n",
       "      <td>0.224206</td>\n",
       "      <td>1</td>\n",
       "      <td>...</td>\n",
       "      <td>-0.046602</td>\n",
       "      <td>-2.48654</td>\n",
       "      <td>51.356041</td>\n",
       "      <td>12.947703</td>\n",
       "      <td>12.171906</td>\n",
       "      <td>3.709617</td>\n",
       "      <td>5.965634</td>\n",
       "      <td>12.831321</td>\n",
       "      <td>469495.468044</td>\n",
       "      <td>0.68131</td>\n",
       "    </tr>\n",
       "    <tr>\n",
       "      <th>5</th>\n",
       "      <td>Bath And North East Somerset</td>\n",
       "      <td>2020-06-01</td>\n",
       "      <td>399703.399288</td>\n",
       "      <td>2020</td>\n",
       "      <td>6</td>\n",
       "      <td>193282</td>\n",
       "      <td>4.139030</td>\n",
       "      <td>419871.188521</td>\n",
       "      <td>0.224206</td>\n",
       "      <td>1</td>\n",
       "      <td>...</td>\n",
       "      <td>-0.013644</td>\n",
       "      <td>-2.48654</td>\n",
       "      <td>51.356041</td>\n",
       "      <td>12.947703</td>\n",
       "      <td>12.171906</td>\n",
       "      <td>1.636864</td>\n",
       "      <td>5.965634</td>\n",
       "      <td>12.898478</td>\n",
       "      <td>373742.045354</td>\n",
       "      <td>0.68131</td>\n",
       "    </tr>\n",
       "  </tbody>\n",
       "</table>\n",
       "<p>5 rows × 22 columns</p>\n",
       "</div>"
      ],
      "text/plain": [
       "                         county  yr_month_x     real_price  year  month  \\\n",
       "1  Bath And North East Somerset  2020-02-01  368081.624487  2020      2   \n",
       "2  Bath And North East Somerset  2020-03-01  392199.964022  2020      3   \n",
       "3  Bath And North East Somerset  2020-04-01  469495.468044  2020      4   \n",
       "4  Bath And North East Somerset  2020-05-01  373742.045354  2020      5   \n",
       "5  Bath And North East Somerset  2020-06-01  399703.399288  2020      6   \n",
       "\n",
       "   population  cases_per_100k   3yr_av_price  av_prop_flats  lockdown  ...  \\\n",
       "1      193282        0.000000  419871.188521       0.224206         0  ...   \n",
       "2      193282       27.421074  419871.188521       0.224206         0  ...   \n",
       "3      193282      103.993129  419871.188521       0.224206         1  ...   \n",
       "4      193282       39.838164  419871.188521       0.224206         1  ...   \n",
       "5      193282        4.139030  419871.188521       0.224206         1  ...   \n",
       "\n",
       "   ann_price_change     long        lat  log_price    log_pop  log_cases  \\\n",
       "1         -0.135711 -2.48654  51.356041  12.947703  12.171906   0.000000   \n",
       "2         -0.070570 -2.48654  51.356041  12.947703  12.171906   3.347131   \n",
       "3          0.122327 -2.48654  51.356041  12.947703  12.171906   4.653895   \n",
       "4         -0.046602 -2.48654  51.356041  12.947703  12.171906   3.709617   \n",
       "5         -0.013644 -2.48654  51.356041  12.947703  12.171906   1.636864   \n",
       "\n",
       "   log_av_size  log_real_price  last_mo_price       r2  \n",
       "1     5.965634       12.816060  408087.080371  0.68131  \n",
       "2     5.965634       12.879527  368081.624487  0.68131  \n",
       "3     5.965634       13.059414  392199.964022  0.68131  \n",
       "4     5.965634       12.831321  469495.468044  0.68131  \n",
       "5     5.965634       12.898478  373742.045354  0.68131  \n",
       "\n",
       "[5 rows x 22 columns]"
      ]
     },
     "execution_count": 1034,
     "metadata": {},
     "output_type": "execute_result"
    }
   ],
   "source": [
    "data_trial_wo_jan.head()"
   ]
  },
  {
   "cell_type": "code",
   "execution_count": 1043,
   "metadata": {},
   "outputs": [],
   "source": [
    "data_grouped = data_trial_wo_jan.groupby('county')['r2'].mean().reset_index()"
   ]
  },
  {
   "cell_type": "code",
   "execution_count": 1053,
   "metadata": {},
   "outputs": [
    {
     "data": {
      "text/html": [
       "<div>\n",
       "<style scoped>\n",
       "    .dataframe tbody tr th:only-of-type {\n",
       "        vertical-align: middle;\n",
       "    }\n",
       "\n",
       "    .dataframe tbody tr th {\n",
       "        vertical-align: top;\n",
       "    }\n",
       "\n",
       "    .dataframe thead th {\n",
       "        text-align: right;\n",
       "    }\n",
       "</style>\n",
       "<table border=\"1\" class=\"dataframe\">\n",
       "  <thead>\n",
       "    <tr style=\"text-align: right;\">\n",
       "      <th></th>\n",
       "      <th>county</th>\n",
       "      <th>r2</th>\n",
       "    </tr>\n",
       "  </thead>\n",
       "  <tbody>\n",
       "    <tr>\n",
       "      <th>0</th>\n",
       "      <td>Bath And North East Somerset</td>\n",
       "      <td>0.681310</td>\n",
       "    </tr>\n",
       "    <tr>\n",
       "      <th>1</th>\n",
       "      <td>Bedford</td>\n",
       "      <td>0.751026</td>\n",
       "    </tr>\n",
       "    <tr>\n",
       "      <th>2</th>\n",
       "      <td>Blackburn With Darwen</td>\n",
       "      <td>0.696377</td>\n",
       "    </tr>\n",
       "    <tr>\n",
       "      <th>3</th>\n",
       "      <td>Blackpool</td>\n",
       "      <td>0.694420</td>\n",
       "    </tr>\n",
       "    <tr>\n",
       "      <th>4</th>\n",
       "      <td>Blaenau Gwent</td>\n",
       "      <td>0.689430</td>\n",
       "    </tr>\n",
       "  </tbody>\n",
       "</table>\n",
       "</div>"
      ],
      "text/plain": [
       "                         county        r2\n",
       "0  Bath And North East Somerset  0.681310\n",
       "1                       Bedford  0.751026\n",
       "2         Blackburn With Darwen  0.696377\n",
       "3                     Blackpool  0.694420\n",
       "4                 Blaenau Gwent  0.689430"
      ]
     },
     "execution_count": 1053,
     "metadata": {},
     "output_type": "execute_result"
    }
   ],
   "source": [
    "data_grouped.head()"
   ]
  },
  {
   "cell_type": "code",
   "execution_count": 1055,
   "metadata": {},
   "outputs": [],
   "source": [
    "data_grouped.to_csv('Data/localr2_data.csv', index=False)"
   ]
  },
  {
   "cell_type": "markdown",
   "metadata": {},
   "source": [
    "## Train/Test Split - GWR"
   ]
  },
  {
   "cell_type": "code",
   "execution_count": 774,
   "metadata": {},
   "outputs": [],
   "source": [
    "gwr_concat_array = np.concatenate((s_X, coords), axis=1)"
   ]
  },
  {
   "cell_type": "code",
   "execution_count": 777,
   "metadata": {},
   "outputs": [],
   "source": [
    "gwr_X_train, gwr_X_test, gwr_y_train, gwr_y_test = train_test_split(gwr_concat_array, s_y, test_size = 0.3, random_state=9)"
   ]
  },
  {
   "cell_type": "code",
   "execution_count": 856,
   "metadata": {},
   "outputs": [],
   "source": [
    "X_train_coords = [tuple(x[-2:]) for x in gwr_X_train]\n",
    "X_test_coords = np.array([tuple(x[-2:]) for x in gwr_X_test])\n",
    "X_train_gwr_vals = np.array([list(x[:10]) for x in gwr_X_train])\n",
    "X_test_gwr_vals = np.array([list(x[:10]) for x in gwr_X_test])"
   ]
  },
  {
   "cell_type": "code",
   "execution_count": 847,
   "metadata": {},
   "outputs": [],
   "source": [
    "gwr_selector = Sel_BW(X_train_coords, y_train, X_train_gwr_vals)"
   ]
  },
  {
   "cell_type": "code",
   "execution_count": 770,
   "metadata": {},
   "outputs": [
    {
     "data": {
      "text/plain": [
       "692"
      ]
     },
     "execution_count": 770,
     "metadata": {},
     "output_type": "execute_result"
    }
   ],
   "source": [
    "len(y_train)"
   ]
  },
  {
   "cell_type": "code",
   "execution_count": 828,
   "metadata": {},
   "outputs": [
    {
     "data": {
      "text/plain": [
       "692"
      ]
     },
     "execution_count": 828,
     "metadata": {},
     "output_type": "execute_result"
    }
   ],
   "source": [
    "len(X_train_coords)"
   ]
  },
  {
   "cell_type": "code",
   "execution_count": 829,
   "metadata": {},
   "outputs": [
    {
     "data": {
      "text/plain": [
       "692"
      ]
     },
     "execution_count": 829,
     "metadata": {},
     "output_type": "execute_result"
    }
   ],
   "source": [
    "len(X_train_gwr_vals)"
   ]
  },
  {
   "cell_type": "code",
   "execution_count": null,
   "metadata": {},
   "outputs": [],
   "source": []
  },
  {
   "cell_type": "code",
   "execution_count": 1002,
   "metadata": {},
   "outputs": [],
   "source": [
    "np.random.seed(908)\n",
    "sample = np.random.choice(range(989), 900)\n",
    "mask = np.ones_like(s_y, dtype = bool).flatten()\n",
    "mask[sample] = False"
   ]
  },
  {
   "cell_type": "code",
   "execution_count": 1003,
   "metadata": {},
   "outputs": [
    {
     "data": {
      "text/plain": [
       "900"
      ]
     },
     "execution_count": 1003,
     "metadata": {},
     "output_type": "execute_result"
    }
   ],
   "source": [
    "len(sample)"
   ]
  },
  {
   "cell_type": "code",
   "execution_count": 1004,
   "metadata": {},
   "outputs": [],
   "source": [
    "cal_coords = np.array(coords)[mask]\n",
    "cal_y = s_y[mask]\n",
    "cal_X = s_X[mask]"
   ]
  },
  {
   "cell_type": "code",
   "execution_count": 1005,
   "metadata": {},
   "outputs": [],
   "source": [
    "pred_coords = np.array(coords)[~mask]\n",
    "pred_y_gwr = s_y[~mask]\n",
    "pred_X_gwr = s_X[~mask]"
   ]
  },
  {
   "cell_type": "code",
   "execution_count": 1006,
   "metadata": {},
   "outputs": [
    {
     "data": {
      "text/plain": [
       "408"
      ]
     },
     "execution_count": 1006,
     "metadata": {},
     "output_type": "execute_result"
    }
   ],
   "source": [
    "len(cal_coords)"
   ]
  },
  {
   "cell_type": "code",
   "execution_count": 1007,
   "metadata": {},
   "outputs": [
    {
     "data": {
      "text/plain": [
       "581"
      ]
     },
     "execution_count": 1007,
     "metadata": {},
     "output_type": "execute_result"
    }
   ],
   "source": [
    "len(pred_coords)"
   ]
  },
  {
   "cell_type": "code",
   "execution_count": 1008,
   "metadata": {},
   "outputs": [],
   "source": [
    "gwr_selector = Sel_BW(cal_coords, cal_y, cal_X)"
   ]
  },
  {
   "cell_type": "code",
   "execution_count": 1009,
   "metadata": {},
   "outputs": [],
   "source": [
    "gwr_bw = gwr_selector.search(bw_min = 2)"
   ]
  },
  {
   "cell_type": "code",
   "execution_count": 1010,
   "metadata": {},
   "outputs": [
    {
     "data": {
      "text/plain": [
       "326.0"
      ]
     },
     "execution_count": 1010,
     "metadata": {},
     "output_type": "execute_result"
    }
   ],
   "source": [
    "gwr_bw"
   ]
  },
  {
   "cell_type": "code",
   "execution_count": 1011,
   "metadata": {},
   "outputs": [],
   "source": [
    "gwr_model_test = GWR(cal_coords, cal_y, cal_X, gwr_bw)"
   ]
  },
  {
   "cell_type": "code",
   "execution_count": 1012,
   "metadata": {},
   "outputs": [],
   "source": [
    "gwr_test_results =  gwr_model_test.fit()"
   ]
  },
  {
   "cell_type": "code",
   "execution_count": 953,
   "metadata": {},
   "outputs": [],
   "source": [
    "pred_results = gwr_model_test.predict(pred_coords, pred_X_gwr)"
   ]
  },
  {
   "cell_type": "code",
   "execution_count": 1013,
   "metadata": {},
   "outputs": [
    {
     "data": {
      "text/plain": [
       "0.7334065631658842"
      ]
     },
     "execution_count": 1013,
     "metadata": {},
     "output_type": "execute_result"
    }
   ],
   "source": [
    "gwr_test_results.R2"
   ]
  },
  {
   "cell_type": "code",
   "execution_count": 1014,
   "metadata": {},
   "outputs": [],
   "source": [
    "predictions_gwr = gwr_test_results.predy"
   ]
  },
  {
   "cell_type": "code",
   "execution_count": 1015,
   "metadata": {},
   "outputs": [
    {
     "data": {
      "text/plain": [
       "408"
      ]
     },
     "execution_count": 1015,
     "metadata": {},
     "output_type": "execute_result"
    }
   ],
   "source": [
    "len(predictions_gwr)"
   ]
  },
  {
   "cell_type": "code",
   "execution_count": 1017,
   "metadata": {},
   "outputs": [],
   "source": [
    "dataset = pd.DataFrame({'pred_y': predictions_gwr[:, 0], 'y_true': cal_y[:,0]})"
   ]
  },
  {
   "cell_type": "code",
   "execution_count": 1018,
   "metadata": {},
   "outputs": [
    {
     "data": {
      "text/html": [
       "<div>\n",
       "<style scoped>\n",
       "    .dataframe tbody tr th:only-of-type {\n",
       "        vertical-align: middle;\n",
       "    }\n",
       "\n",
       "    .dataframe tbody tr th {\n",
       "        vertical-align: top;\n",
       "    }\n",
       "\n",
       "    .dataframe thead th {\n",
       "        text-align: right;\n",
       "    }\n",
       "</style>\n",
       "<table border=\"1\" class=\"dataframe\">\n",
       "  <thead>\n",
       "    <tr style=\"text-align: right;\">\n",
       "      <th></th>\n",
       "      <th>pred_y</th>\n",
       "      <th>y_true</th>\n",
       "    </tr>\n",
       "  </thead>\n",
       "  <tbody>\n",
       "    <tr>\n",
       "      <th>0</th>\n",
       "      <td>-0.697948</td>\n",
       "      <td>-0.827096</td>\n",
       "    </tr>\n",
       "    <tr>\n",
       "      <th>1</th>\n",
       "      <td>0.796514</td>\n",
       "      <td>-1.458732</td>\n",
       "    </tr>\n",
       "    <tr>\n",
       "      <th>2</th>\n",
       "      <td>-0.440835</td>\n",
       "      <td>-0.486891</td>\n",
       "    </tr>\n",
       "    <tr>\n",
       "      <th>3</th>\n",
       "      <td>-0.061718</td>\n",
       "      <td>-0.264159</td>\n",
       "    </tr>\n",
       "    <tr>\n",
       "      <th>4</th>\n",
       "      <td>-0.068956</td>\n",
       "      <td>0.938640</td>\n",
       "    </tr>\n",
       "    <tr>\n",
       "      <th>...</th>\n",
       "      <td>...</td>\n",
       "      <td>...</td>\n",
       "    </tr>\n",
       "    <tr>\n",
       "      <th>403</th>\n",
       "      <td>-1.225999</td>\n",
       "      <td>-1.251827</td>\n",
       "    </tr>\n",
       "    <tr>\n",
       "      <th>404</th>\n",
       "      <td>-0.407976</td>\n",
       "      <td>0.766462</td>\n",
       "    </tr>\n",
       "    <tr>\n",
       "      <th>405</th>\n",
       "      <td>-0.610032</td>\n",
       "      <td>-0.317234</td>\n",
       "    </tr>\n",
       "    <tr>\n",
       "      <th>406</th>\n",
       "      <td>-0.010713</td>\n",
       "      <td>0.498546</td>\n",
       "    </tr>\n",
       "    <tr>\n",
       "      <th>407</th>\n",
       "      <td>0.870553</td>\n",
       "      <td>0.981631</td>\n",
       "    </tr>\n",
       "  </tbody>\n",
       "</table>\n",
       "<p>408 rows × 2 columns</p>\n",
       "</div>"
      ],
      "text/plain": [
       "       pred_y    y_true\n",
       "0   -0.697948 -0.827096\n",
       "1    0.796514 -1.458732\n",
       "2   -0.440835 -0.486891\n",
       "3   -0.061718 -0.264159\n",
       "4   -0.068956  0.938640\n",
       "..        ...       ...\n",
       "403 -1.225999 -1.251827\n",
       "404 -0.407976  0.766462\n",
       "405 -0.610032 -0.317234\n",
       "406 -0.010713  0.498546\n",
       "407  0.870553  0.981631\n",
       "\n",
       "[408 rows x 2 columns]"
      ]
     },
     "execution_count": 1018,
     "metadata": {},
     "output_type": "execute_result"
    }
   ],
   "source": [
    "dataset"
   ]
  },
  {
   "cell_type": "code",
   "execution_count": 1020,
   "metadata": {},
   "outputs": [],
   "source": [
    "dataset['resid'] = dataset['y_true'] - dataset['pred_y']"
   ]
  },
  {
   "cell_type": "code",
   "execution_count": 906,
   "metadata": {},
   "outputs": [],
   "source": [
    "plt.rcParams['axes.facecolor'] = 'white'"
   ]
  },
  {
   "cell_type": "code",
   "execution_count": 1063,
   "metadata": {},
   "outputs": [
    {
     "data": {
      "image/png": "[encoded data removed]",
      "text/plain": [
       "<Figure size 800x800 with 1 Axes>"
      ]
     },
     "metadata": {},
     "output_type": "display_data"
    }
   ],
   "source": [
    "fig, ax = plt.subplots(figsize = (8,8), dpi =100)\n",
    "x = dataset.y_true\n",
    "y = dataset.pred_y\n",
    "\n",
    "plt.scatter(x, y, alpha = 0.8, color='slateblue', edgecolor='black', s=60)\n",
    "\n",
    "plt.plot(np.unique(x), np.poly1d(np.polyfit(x, y, 1))(np.unique(x)), color='black')\n",
    "plt.xlabel('Observed Average House Price Appreciation Rate')\n",
    "plt.ylabel('Predicted Average House Price Appreciation Rate')\n",
    "plt.grid('off')\n",
    "plt.title('Geographically Weighted Regression',           fontweight='bold')\n",
    "\n",
    "plt.text(-0.3, 3, \"R²:        0.73\", color='slateblue', fontsize = (14))\n",
    "plt.show()"
   ]
  },
  {
   "cell_type": "code",
   "execution_count": 1024,
   "metadata": {},
   "outputs": [
    {
     "data": {
      "image/png": "[encoded data removed]",
      "text/plain": [
       "<Figure size 800x800 with 1 Axes>"
      ]
     },
     "metadata": {},
     "output_type": "display_data"
    }
   ],
   "source": [
    "fig, ax = plt.subplots(figsize = (8,8), dpi =100)\n",
    "x = dataset.pred_y\n",
    "y = dataset.resid\n",
    "\n",
    "plt.scatter(x, y, alpha = 0.5, color='orange', edgecolor='black', s=60)\n",
    "\n",
    "plt.hlines(0, -3, 4, linestyle=\"dotted\", color = 'grey')\n",
    "plt.xlabel('Predicted Average House Price Appreciation Rate')\n",
    "plt.ylabel('Residuals')\n",
    "plt.grid('off')\n",
    "plt.title('GWR - Residuals',           fontweight='bold')\n",
    "\n",
    "plt.show()"
   ]
  },
  {
   "cell_type": "code",
   "execution_count": null,
   "metadata": {},
   "outputs": [],
   "source": [
    "p_vals_100 = gwr_results.spatial_variability(gwr_selector, 100)"
   ]
  },
  {
   "cell_type": "code",
   "execution_count": null,
   "metadata": {},
   "outputs": [],
   "source": [
    "p_vals_1000"
   ]
  },
  {
   "cell_type": "markdown",
   "metadata": {},
   "source": [
    "# MGWR:"
   ]
  },
  {
   "cell_type": "code",
   "execution_count": 661,
   "metadata": {},
   "outputs": [],
   "source": [
    "mgwr_selector = Sel_BW(coords, s_y, s_X, multi = True)"
   ]
  },
  {
   "cell_type": "code",
   "execution_count": 663,
   "metadata": {},
   "outputs": [
    {
     "data": {
      "application/vnd.jupyter.widget-view+json": {
       "model_id": "f1dcaf232bc545e7b6e1d036e81cf2f7",
       "version_major": 2,
       "version_minor": 0
      },
      "text/plain": [
       "HBox(children=(HTML(value='Backfitting'), FloatProgress(value=0.0, max=200.0), HTML(value='')))"
      ]
     },
     "metadata": {},
     "output_type": "display_data"
    },
    {
     "name": "stdout",
     "output_type": "stream",
     "text": [
      "\n"
     ]
    }
   ],
   "source": [
    "mgwr_bw = mgwr_selector.search(multi_bw_min = [500], multi_bw_max = [500])"
   ]
  },
  {
   "cell_type": "code",
   "execution_count": 664,
   "metadata": {},
   "outputs": [
    {
     "data": {
      "text/plain": [
       "array([500., 500., 500., 500., 500., 500., 500., 500., 500., 500., 500.])"
      ]
     },
     "execution_count": 664,
     "metadata": {},
     "output_type": "execute_result"
    }
   ],
   "source": [
    "mgwr_bw"
   ]
  },
  {
   "cell_type": "code",
   "execution_count": 665,
   "metadata": {},
   "outputs": [
    {
     "data": {
      "application/vnd.jupyter.widget-view+json": {
       "model_id": "54040550c91541849023ffb5f9f80348",
       "version_major": 2,
       "version_minor": 0
      },
      "text/plain": [
       "HBox(children=(HTML(value='Inference'), FloatProgress(value=0.0, max=1.0), HTML(value='')))"
      ]
     },
     "metadata": {},
     "output_type": "display_data"
    },
    {
     "name": "stdout",
     "output_type": "stream",
     "text": [
      "\n"
     ]
    }
   ],
   "source": [
    "mgwr_results = MGWR(coords, s_y, s_X, mgwr_selector).fit()"
   ]
  },
  {
   "cell_type": "code",
   "execution_count": 666,
   "metadata": {},
   "outputs": [
    {
     "data": {
      "text/plain": [
       "0.731259272876882"
      ]
     },
     "execution_count": 666,
     "metadata": {},
     "output_type": "execute_result"
    }
   ],
   "source": [
    "mgwr_results.R2"
   ]
  },
  {
   "cell_type": "code",
   "execution_count": null,
   "metadata": {},
   "outputs": [],
   "source": []
  }
 ],
 "metadata": {
  "kernelspec": {
   "display_name": "Python 3",
   "language": "python",
   "name": "python3"
  },
  "language_info": {
   "codemirror_mode": {
    "name": "ipython",
    "version": 3
   },
   "file_extension": ".py",
   "mimetype": "text/x-python",
   "name": "python",
   "nbconvert_exporter": "python",
   "pygments_lexer": "ipython3",
   "version": "3.7.9"
  },
  "toc": {
   "base_numbering": 1,
   "nav_menu": {},
   "number_sections": true,
   "sideBar": true,
   "skip_h1_title": false,
   "title_cell": "Table of Contents",
   "title_sidebar": "Contents",
   "toc_cell": false,
   "toc_position": {},
   "toc_section_display": true,
   "toc_window_display": true
  }
 },
 "nbformat": 4,
 "nbformat_minor": 4
}
